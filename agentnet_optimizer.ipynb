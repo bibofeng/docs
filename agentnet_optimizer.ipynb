{
  "cells": [
    {
      "cell_type": "markdown",
      "metadata": {
        "id": "TA1HJUZ1hh71"
      },
      "source": [
        "# Open notebook in Colab\n"
      ]
    },
    {
      "cell_type": "markdown",
      "metadata": {
        "id": "1uNwLKy4hh74"
      },
      "source": []
    },
    {
      "cell_type": "markdown",
      "metadata": {
        "id": "ZCdnMaMWhh75"
      },
      "source": [
        "<a href=\"https://colab.research.google.com/github/bibofeng/docs/blob/main/agentnet_optimizer.ipynb\" target=\"_parent\"><img src=\"https://colab.research.google.com/assets/colab-badge.svg\" alt=\"Open In Colab\"/></a>"
      ]
    },
    {
      "cell_type": "markdown",
      "metadata": {
        "id": "gtZdoNyIhh75"
      },
      "source": [
        "# Colab Setup\n",
        "## colab shell setup\n"
      ]
    },
    {
      "cell_type": "code",
      "execution_count": null,
      "metadata": {
        "id": "ilRtOrwUhh76"
      },
      "outputs": [],
      "source": [
        "from IPython.display import JSON\n",
        "from google.colab import output\n",
        "from subprocess import getoutput\n",
        "import os"
      ]
    },
    {
      "cell_type": "code",
      "execution_count": null,
      "metadata": {
        "id": "BStN17RVhh77"
      },
      "outputs": [],
      "source": [
        "# run colab bash shell teminal window\n",
        "\n",
        "def shell(command):\n",
        "  if command.startswith('cd'):\n",
        "    path = command.strip().split(maxsplit=1)[1]\n",
        "    os.chdir(path)\n",
        "    return JSON([''])\n",
        "  return JSON([getoutput(command)])\n",
        "output.register_callback('shell', shell)"
      ]
    },
    {
      "cell_type": "code",
      "execution_count": null,
      "metadata": {
        "id": "LysM_ryzhh78"
      },
      "outputs": [],
      "source": [
        "#@title Colab Shell\n",
        "%%html\n",
        "<div id=term_demo></div>\n",
        "<script src=\"https://code.jquery.com/jquery-latest.js\"></script>\n",
        "<script src=\"https://cdn.jsdelivr.net/npm/jquery.terminal/js/jquery.terminal.min.js\"></script>\n",
        "<link href=\"https://cdn.jsdelivr.net/npm/jquery.terminal/css/jquery.terminal.min.css\" rel=\"stylesheet\"/>\n",
        "<script>\n",
        "  $('#term_demo').terminal(async function(command) {\n",
        "      if (command !== '') {\n",
        "          try {\n",
        "              let res = await google.colab.kernel.invokeFunction('shell', [command])\n",
        "              let out = res.data['application/json'][0]\n",
        "              this.echo(new String(out))\n",
        "          } catch(e) {\n",
        "              this.error(new String(e));\n",
        "          }\n",
        "      } else {\n",
        "          this.echo('');\n",
        "      }\n",
        "  }, {\n",
        "      greetings: 'Welcome to Colab Shell',\n",
        "      name: 'colab_demo',\n",
        "      height: 250,\n",
        "      prompt: 'colab > '\n",
        "  });"
      ]
    },
    {
      "cell_type": "markdown",
      "metadata": {
        "id": "-BGG0WjFhh79"
      },
      "source": [
        "#@title Colab Shell\n",
        "%%html\n",
        "<div id=term_demo></div>\n",
        "<script src=\"https://code.jquery.com/jquery-latest.js\"></script>\n",
        "<script src=\"https://cdn.jsdelivr.net/npm/jquery.terminal/js/jquery.terminal.min.js\"></script>\n",
        "<link href=\"https://cdn.jsdelivr.net/npm/jquery.terminal/css/jquery.terminal.min.css\" rel=\"stylesheet\"/>\n",
        "<script>\n",
        "  $('#term_demo').terminal(async function(command) {\n",
        "      if (command !== '') {\n",
        "          try {\n",
        "              let res = await google.colab.kernel.invokeFunction('shell', [command])\n",
        "              let out = res.data['application/json'][0]\n",
        "              this.echo(new String(out))\n",
        "          } catch(e) {\n",
        "              this.error(new String(e));\n",
        "          }\n",
        "      } else {\n",
        "          this.echo('');\n",
        "      }\n",
        "  }, {\n",
        "      greetings: 'Welcome to Colab Shell',\n",
        "      name: 'colab_demo',\n",
        "      height: 250,\n",
        "      prompt: 'colab > '\n",
        "  });"
      ]
    },
    {
      "cell_type": "markdown",
      "metadata": {
        "id": "qUKx6dwPhh7-"
      },
      "source": [
        "## Mount Google Drive"
      ]
    },
    {
      "cell_type": "code",
      "execution_count": null,
      "metadata": {
        "id": "ZflAzC-Dhh7-"
      },
      "outputs": [],
      "source": [
        "#mount google drive of GwsArk\n",
        "# from google.colab import drive\n",
        "# drive.mount('/content/gdrive')\n",
        "# cp /content/gdrive/MyDrive/config/* ./"
      ]
    },
    {
      "cell_type": "code",
      "execution_count": null,
      "metadata": {
        "id": "ep6THKkMhh7_"
      },
      "outputs": [],
      "source": []
    },
    {
      "cell_type": "markdown",
      "metadata": {
        "id": "fWDOSuT2hh7_"
      },
      "source": [
        "## Upload Config Files From Local Server"
      ]
    },
    {
      "cell_type": "code",
      "execution_count": null,
      "metadata": {
        "id": "_33OdsORhh8A"
      },
      "outputs": [],
      "source": [
        "from google.colab import files\n",
        "uploaded = files.upload()\n",
        "for fn in uploaded.keys():\n",
        "  print('User uploaded file \"{name}\" with length {length} bytes'.format(\n",
        "      name=fn, length=len(uploaded[fn])))"
      ]
    },
    {
      "cell_type": "markdown",
      "metadata": {
        "id": "nwcZMEg6hh8A"
      },
      "source": [
        "## Import configurae credential file\n"
      ]
    },
    {
      "cell_type": "markdown",
      "metadata": {
        "id": "2_2jp38Ghh8A"
      },
      "source": []
    },
    {
      "cell_type": "code",
      "execution_count": null,
      "metadata": {
        "id": "OIJR7BKzhh8A"
      },
      "outputs": [],
      "source": [
        "#import config credential of user name and password\n",
        "import config\n",
        "user = config.USER\n",
        "pw = config.PW\n",
        "url = config.URL\n",
        "#install bblib \n",
        "!pip install git+http://$user:$pw@$url"
      ]
    },
    {
      "cell_type": "markdown",
      "metadata": {
        "id": "HwNBQ_n4hh8B"
      },
      "source": [
        "## import talab package"
      ]
    },
    {
      "cell_type": "code",
      "execution_count": null,
      "metadata": {
        "id": "YdibziI_hh8B"
      },
      "outputs": [],
      "source": [
        "url = 'https://anaconda.org/conda-forge/libta-lib/0.4.0/download/linux-64/libta-lib-0.4.0-h516909a_0.tar.bz2'\n",
        "!curl -L $url | tar xj -C /usr/lib/x86_64-linux-gnu/ lib --strip-components=1\n",
        "url = 'https://anaconda.org/conda-forge/ta-lib/0.4.19/download/linux-64/ta-lib-0.4.19-py37ha21ca33_2.tar.bz2'\n",
        "!curl -L $url | tar xj -C /usr/local/lib/python3.7/dist-packages/ lib/python3.7/site-packages/talib --strip-components=3\n",
        "import talib"
      ]
    },
    {
      "cell_type": "markdown",
      "metadata": {
        "id": "3zV6N3Wdhh8B"
      },
      "source": [
        "# Setup tensorboard on Notebook"
      ]
    },
    {
      "cell_type": "markdown",
      "metadata": {
        "id": "LhqOzx4ghh8B"
      },
      "source": []
    },
    {
      "cell_type": "code",
      "execution_count": null,
      "metadata": {
        "id": "ZIrQCgsuhh8B"
      },
      "outputs": [],
      "source": [
        "# Load the TensorBoard notebook extension\n",
        "%load_ext tensorboard"
      ]
    },
    {
      "cell_type": "code",
      "execution_count": null,
      "metadata": {
        "id": "tucHo_cthh8C"
      },
      "outputs": [],
      "source": [
        "#Open tensorboard in notebook: \n",
        "%tensorboard --logdir /content/gdrive/MyDrive/logs/test_state_1d/"
      ]
    },
    {
      "cell_type": "markdown",
      "metadata": {
        "id": "YV5eR_nBhh8C"
      },
      "source": [
        "## Run python scripts \n"
      ]
    },
    {
      "cell_type": "code",
      "execution_count": null,
      "metadata": {
        "id": "1WUw9ZKBhh8C"
      },
      "outputs": [],
      "source": [
        "!python  /usr/local/lib/python3.7/dist-packages/DRLON/train_drlon_model.py --cuda gpu --data YNDX_160101_161231.csv --valdata YNDX_150101_151231.csv -r test_state_1d\n"
      ]
    },
    {
      "cell_type": "code",
      "execution_count": 3,
      "metadata": {
        "id": "83bnTG5Uhk6W"
      },
      "outputs": [],
      "source": [
        "import numpy as np\n",
        "import pandas as pd\n"
      ]
    },
    {
      "cell_type": "code",
      "execution_count": 5,
      "metadata": {
        "colab": {
          "base_uri": "https://localhost:8080/"
        },
        "id": "iiz3YhLVhn0r",
        "outputId": "8f15ad06-0ebb-4e74-a33c-2ce7c3ebeafd"
      },
      "outputs": [
        {
          "data": {
            "text/plain": [
              "array([[0., 0., 0.],\n",
              "       [0., 0., 0.]])"
            ]
          },
          "execution_count": 5,
          "metadata": {},
          "output_type": "execute_result"
        }
      ],
      "source": [
        "np.zeros((2,3))"
      ]
    },
    {
      "cell_type": "code",
      "execution_count": 6,
      "metadata": {
        "colab": {
          "base_uri": "https://localhost:8080/"
        },
        "id": "WmEBgoUFhuPV",
        "outputId": "0af27ed2-1638-42e0-a062-f7cffdd42ce9"
      },
      "outputs": [
        {
          "data": {
            "text/plain": [
              "array([[[0., 0., 0., 0.],\n",
              "        [0., 0., 0., 0.],\n",
              "        [0., 0., 0., 0.],\n",
              "        [0., 0., 0., 0.],\n",
              "        [0., 0., 0., 0.],\n",
              "        [0., 0., 0., 0.]],\n",
              "\n",
              "       [[0., 0., 0., 0.],\n",
              "        [0., 0., 0., 0.],\n",
              "        [0., 0., 0., 0.],\n",
              "        [0., 0., 0., 0.],\n",
              "        [0., 0., 0., 0.],\n",
              "        [0., 0., 0., 0.]],\n",
              "\n",
              "       [[0., 0., 0., 0.],\n",
              "        [0., 0., 0., 0.],\n",
              "        [0., 0., 0., 0.],\n",
              "        [0., 0., 0., 0.],\n",
              "        [0., 0., 0., 0.],\n",
              "        [0., 0., 0., 0.]],\n",
              "\n",
              "       [[0., 0., 0., 0.],\n",
              "        [0., 0., 0., 0.],\n",
              "        [0., 0., 0., 0.],\n",
              "        [0., 0., 0., 0.],\n",
              "        [0., 0., 0., 0.],\n",
              "        [0., 0., 0., 0.]],\n",
              "\n",
              "       [[0., 0., 0., 0.],\n",
              "        [0., 0., 0., 0.],\n",
              "        [0., 0., 0., 0.],\n",
              "        [0., 0., 0., 0.],\n",
              "        [0., 0., 0., 0.],\n",
              "        [0., 0., 0., 0.]]])"
            ]
          },
          "execution_count": 6,
          "metadata": {},
          "output_type": "execute_result"
        }
      ],
      "source": [
        " asset_len = 2  ## Appl google\n",
        " ind_len = 3  ## Close , High , Vol, VWap\n",
        " window_len = 4\n",
        " ## so the imaging should be H=3*2, W=4\n",
        " #\n",
        " data_len = 5\n",
        " npdata = np.zeros((data_len, ind_len * asset_len, window_len))\n",
        " npdata"
      ]
    },
    {
      "cell_type": "code",
      "execution_count": 7,
      "metadata": {
        "colab": {
          "base_uri": "https://localhost:8080/",
          "height": 110
        },
        "id": "YL1KSea_q4CQ",
        "outputId": "57f58896-90da-4466-c58d-ad013db54e9d"
      },
      "outputs": [
        {
          "data": {
            "text/html": [
              "<div>\n",
              "<style scoped>\n",
              "    .dataframe tbody tr th:only-of-type {\n",
              "        vertical-align: middle;\n",
              "    }\n",
              "\n",
              "    .dataframe tbody tr th {\n",
              "        vertical-align: top;\n",
              "    }\n",
              "\n",
              "    .dataframe thead th {\n",
              "        text-align: right;\n",
              "    }\n",
              "</style>\n",
              "<table border=\"1\" class=\"dataframe\">\n",
              "  <thead>\n",
              "    <tr style=\"text-align: right;\">\n",
              "      <th></th>\n",
              "      <th>a</th>\n",
              "      <th>b1</th>\n",
              "    </tr>\n",
              "  </thead>\n",
              "  <tbody>\n",
              "    <tr>\n",
              "      <th>first</th>\n",
              "      <td>0.0</td>\n",
              "      <td>0.0</td>\n",
              "    </tr>\n",
              "    <tr>\n",
              "      <th>second</th>\n",
              "      <td>0.0</td>\n",
              "      <td>0.0</td>\n",
              "    </tr>\n",
              "  </tbody>\n",
              "</table>\n",
              "</div>"
            ],
            "text/plain": [
              "          a   b1\n",
              "first   0.0  0.0\n",
              "second  0.0  0.0"
            ]
          },
          "execution_count": 7,
          "metadata": {},
          "output_type": "execute_result"
        }
      ],
      "source": [
        "# With two column indices with\n",
        "# one index with other name\n",
        "data = np.zeros((2,2))\n",
        "df2 = pd.DataFrame(data, index =['first',\n",
        "                                 'second'],\n",
        "                   columns =['a', 'b1'])\n",
        "df2"
      ]
    },
    {
      "cell_type": "code",
      "execution_count": 8,
      "metadata": {
        "colab": {
          "base_uri": "https://localhost:8080/"
        },
        "id": "51Vnob7tzX8N",
        "outputId": "51cc3bc6-f866-4da6-b8b9-ef07808c0b8b"
      },
      "outputs": [
        {
          "name": "stdout",
          "output_type": "stream",
          "text": [
            "ind0\n",
            "ind1\n",
            "ind2\n",
            "[1.01 2.02 3.03]\n"
          ]
        }
      ],
      "source": [
        "indlist= []\n",
        "data= np.zeros((3))\n",
        "for i in range(3):\n",
        "  x = \"ind\" + str(i)\n",
        "  y = np.float32( str(i+1) + \".\" + ( \"0\"+str(i+1))[-2:])\n",
        "  indlist.append(x)\n",
        "  data[i] = float(\"{:.4f}\".format(y))\n",
        "  print(indlist[i])\n",
        "print(data)"
      ]
    },
    {
      "cell_type": "code",
      "execution_count": 10,
      "metadata": {
        "colab": {
          "base_uri": "https://localhost:8080/"
        },
        "id": "4eg9uxeO8S_V",
        "outputId": "028ed397-f211-4320-8c76-e832380d8071"
      },
      "outputs": [
        {
          "data": {
            "text/plain": [
              "array([[0., 0., 0.],\n",
              "       [0., 0., 0.],\n",
              "       [0., 0., 0.],\n",
              "       [0., 0., 0.],\n",
              "       [0., 0., 0.],\n",
              "       [0., 0., 0.],\n",
              "       [0., 0., 0.],\n",
              "       [0., 0., 0.]])"
            ]
          },
          "execution_count": 10,
          "metadata": {},
          "output_type": "execute_result"
        }
      ],
      "source": [
        "asset_len = 2\n",
        "ind_len = 3\n",
        "data_len = 4\n",
        "ind_windows = 5\n",
        " \n",
        "data_row= np.zeros((ind_len))\n",
        "data =np.zeros((data_len *asset_len ,ind_len)) \n",
        "data"
      ]
    },
    {
      "cell_type": "code",
      "execution_count": 47,
      "metadata": {
        "colab": {
          "base_uri": "https://localhost:8080/"
        },
        "id": "0Wqgbg9CKCN9",
        "outputId": "a4656a60-76f8-4563-8b09-a07ea2cfb296"
      },
      "outputs": [
        {
          "name": "stdout",
          "output_type": "stream",
          "text": [
            "['ind_1.1', 'ind_1.2', 'ind_2.1', 'ind_2.2', 'ind_3.1', 'ind_3.2']\n",
            "['ticker0', 'ticker1']\n",
            "[0, 1, 2, 3, 0, 1, 2, 3]\n",
            "['tkr_0.0', 'tkr_0.1', 'tkr_0.2', 'tkr_0.3', 'tkr_1.0', 'tkr_1.1', 'tkr_1.2', 'tkr_1.3']\n"
          ]
        }
      ],
      "source": [
        "asset_len = 2\n",
        "ind_len = 3\n",
        "data_len = 4\n",
        "ind_windows =2\n",
        "data =np.zeros((data_len *asset_len ,ind_len * ind_windows)) \n",
        "\n",
        "indlist= []\n",
        "assetlist= []\n",
        "rowindex=[]\n",
        "tickers=[]\n",
        "tickeridx=[]\n",
        "for k in range(asset_len):\n",
        "  tickers.append(\"ticker\"+str(k))\n",
        "\n",
        "\n",
        "for k in range(asset_len):\n",
        "  for j in range(data_len):\n",
        "    rowindex.append(  j)\n",
        "    tickeridx.append(\"tkr_\"+str(k)+\".\"+str(j))\n",
        "\n",
        "\n",
        "for i in range(ind_len):\n",
        "  for j in range(ind_windows):\n",
        "    if ind_windows <=1 :\n",
        "       indlist.append(\"ind_\" + str(i+1) )\n",
        "    else:\n",
        "      indlist.append(\"ind_\" + str(i+1) + \".\" + str(j+1))\n",
        "\n",
        "print(indlist)\n",
        "print(tickers)\n",
        "print(rowindex)\n",
        "print(tickeridx)"
      ]
    },
    {
      "cell_type": "code",
      "execution_count": 48,
      "metadata": {
        "colab": {
          "base_uri": "https://localhost:8080/"
        },
        "id": "gJs4cxet_VgJ",
        "outputId": "1d40e298-d0fd-479a-9628-fd014237fa25"
      },
      "outputs": [
        {
          "data": {
            "text/plain": [
              "6"
            ]
          },
          "execution_count": 48,
          "metadata": {},
          "output_type": "execute_result"
        }
      ],
      "source": [
        "len(indlist)"
      ]
    },
    {
      "cell_type": "code",
      "execution_count": 49,
      "metadata": {
        "colab": {
          "base_uri": "https://localhost:8080/"
        },
        "id": "LnySmmHErCNA",
        "outputId": "bd13354f-f730-4ea5-de01-c3b63bb49b6a"
      },
      "outputs": [
        {
          "name": "stdout",
          "output_type": "stream",
          "text": [
            "[[0. 0. 0. 0. 0. 0.]\n",
            " [0. 0. 0. 0. 0. 0.]\n",
            " [0. 0. 0. 0. 0. 0.]\n",
            " [0. 0. 0. 0. 0. 0.]\n",
            " [0. 0. 0. 0. 0. 0.]\n",
            " [0. 0. 0. 0. 0. 0.]\n",
            " [0. 0. 0. 0. 0. 0.]\n",
            " [0. 0. 0. 0. 0. 0.]]\n",
            "[[1.010101 1.010102 1.010201 1.010202 1.010301 1.010302]\n",
            " [1.020101 1.020102 1.020201 1.020202 1.020301 1.020302]\n",
            " [1.030101 1.030102 1.030201 1.030202 1.030301 1.030302]\n",
            " [1.040101 1.040102 1.040201 1.040202 1.040301 1.040302]\n",
            " [2.010101 2.010102 2.010201 2.010202 2.010301 2.010302]\n",
            " [2.020101 2.020102 2.020201 2.020202 2.020301 2.020302]\n",
            " [2.030101 2.030102 2.030201 2.030202 2.030301 2.030302]\n",
            " [2.040101 2.040102 2.040201 2.040202 2.040301 2.040302]]\n"
          ]
        }
      ],
      "source": [
        "\n",
        "\n",
        "print(data)\n",
        "m = 0\n",
        "n = 0\n",
        "i=j=k=0\n",
        "for k in range(asset_len):\n",
        "  for j in range(data_len):\n",
        "    data_row= np.zeros((ind_len))\n",
        "    m =  k *data_len + j\n",
        "    for i in range(ind_len):\n",
        "      for w in range(ind_windows):\n",
        "        if ind_windows <=1 :\n",
        "          n = i * ind_windows  \n",
        "          y = np.float32( str(k+1) + \".\"  + ( \"0\"+str(j+1))[-2:] + ( \"0\"+str(i+1))[-2:] )\n",
        "        else:\n",
        "          n = i * ind_windows + w\n",
        "          y = np.float32( str(k+1) + \".\"+ ( \"0\"+str(j+1))[-2:]  + ( \"0\"+str(i+1))[-2:] + ( \"0\"+str(w+1))[-2:]  )\n",
        "        data_row[i] = float(\"{:.6f}\".format(y))\n",
        "        data[m,n] = float(\"{:.6f}\".format(y))\n",
        "      #print(data_row[i])\n",
        "     # print(m)\n",
        "    #print(data_row)\n",
        "print(data)\n"
      ]
    },
    {
      "cell_type": "code",
      "execution_count": 136,
      "metadata": {
        "colab": {
          "base_uri": "https://localhost:8080/"
        },
        "id": "syvIBsmfL_UL",
        "outputId": "ab94020e-6f2c-4e2e-f09f-791b864f18e3"
      },
      "outputs": [
        {
          "data": {
            "text/plain": [
              "numpy.ndarray"
            ]
          },
          "execution_count": 136,
          "metadata": {},
          "output_type": "execute_result"
        }
      ],
      "source": [
        "type(data)"
      ]
    },
    {
      "cell_type": "code",
      "execution_count": 50,
      "metadata": {
        "colab": {
          "base_uri": "https://localhost:8080/",
          "height": 298
        },
        "id": "YH0LW2siLTtT",
        "outputId": "78b56771-830e-40ef-f009-5709d0bf824c"
      },
      "outputs": [
        {
          "data": {
            "text/html": [
              "<div>\n",
              "<style scoped>\n",
              "    .dataframe tbody tr th:only-of-type {\n",
              "        vertical-align: middle;\n",
              "    }\n",
              "\n",
              "    .dataframe tbody tr th {\n",
              "        vertical-align: top;\n",
              "    }\n",
              "\n",
              "    .dataframe thead th {\n",
              "        text-align: right;\n",
              "    }\n",
              "</style>\n",
              "<table border=\"1\" class=\"dataframe\">\n",
              "  <thead>\n",
              "    <tr style=\"text-align: right;\">\n",
              "      <th></th>\n",
              "      <th>ind_1.1</th>\n",
              "      <th>ind_1.2</th>\n",
              "      <th>ind_2.1</th>\n",
              "      <th>ind_2.2</th>\n",
              "      <th>ind_3.1</th>\n",
              "      <th>ind_3.2</th>\n",
              "    </tr>\n",
              "  </thead>\n",
              "  <tbody>\n",
              "    <tr>\n",
              "      <th>tkr_0.0</th>\n",
              "      <td>1.010101</td>\n",
              "      <td>1.010102</td>\n",
              "      <td>1.010201</td>\n",
              "      <td>1.010202</td>\n",
              "      <td>1.010301</td>\n",
              "      <td>1.010302</td>\n",
              "    </tr>\n",
              "    <tr>\n",
              "      <th>tkr_0.1</th>\n",
              "      <td>1.020101</td>\n",
              "      <td>1.020102</td>\n",
              "      <td>1.020201</td>\n",
              "      <td>1.020202</td>\n",
              "      <td>1.020301</td>\n",
              "      <td>1.020302</td>\n",
              "    </tr>\n",
              "    <tr>\n",
              "      <th>tkr_0.2</th>\n",
              "      <td>1.030101</td>\n",
              "      <td>1.030102</td>\n",
              "      <td>1.030201</td>\n",
              "      <td>1.030202</td>\n",
              "      <td>1.030301</td>\n",
              "      <td>1.030302</td>\n",
              "    </tr>\n",
              "    <tr>\n",
              "      <th>tkr_0.3</th>\n",
              "      <td>1.040101</td>\n",
              "      <td>1.040102</td>\n",
              "      <td>1.040201</td>\n",
              "      <td>1.040202</td>\n",
              "      <td>1.040301</td>\n",
              "      <td>1.040302</td>\n",
              "    </tr>\n",
              "    <tr>\n",
              "      <th>tkr_1.0</th>\n",
              "      <td>2.010101</td>\n",
              "      <td>2.010102</td>\n",
              "      <td>2.010201</td>\n",
              "      <td>2.010202</td>\n",
              "      <td>2.010301</td>\n",
              "      <td>2.010302</td>\n",
              "    </tr>\n",
              "    <tr>\n",
              "      <th>tkr_1.1</th>\n",
              "      <td>2.020101</td>\n",
              "      <td>2.020102</td>\n",
              "      <td>2.020201</td>\n",
              "      <td>2.020202</td>\n",
              "      <td>2.020301</td>\n",
              "      <td>2.020302</td>\n",
              "    </tr>\n",
              "    <tr>\n",
              "      <th>tkr_1.2</th>\n",
              "      <td>2.030101</td>\n",
              "      <td>2.030102</td>\n",
              "      <td>2.030201</td>\n",
              "      <td>2.030202</td>\n",
              "      <td>2.030301</td>\n",
              "      <td>2.030302</td>\n",
              "    </tr>\n",
              "    <tr>\n",
              "      <th>tkr_1.3</th>\n",
              "      <td>2.040101</td>\n",
              "      <td>2.040102</td>\n",
              "      <td>2.040201</td>\n",
              "      <td>2.040202</td>\n",
              "      <td>2.040301</td>\n",
              "      <td>2.040302</td>\n",
              "    </tr>\n",
              "  </tbody>\n",
              "</table>\n",
              "</div>"
            ],
            "text/plain": [
              "          ind_1.1   ind_1.2   ind_2.1   ind_2.2   ind_3.1   ind_3.2\n",
              "tkr_0.0  1.010101  1.010102  1.010201  1.010202  1.010301  1.010302\n",
              "tkr_0.1  1.020101  1.020102  1.020201  1.020202  1.020301  1.020302\n",
              "tkr_0.2  1.030101  1.030102  1.030201  1.030202  1.030301  1.030302\n",
              "tkr_0.3  1.040101  1.040102  1.040201  1.040202  1.040301  1.040302\n",
              "tkr_1.0  2.010101  2.010102  2.010201  2.010202  2.010301  2.010302\n",
              "tkr_1.1  2.020101  2.020102  2.020201  2.020202  2.020301  2.020302\n",
              "tkr_1.2  2.030101  2.030102  2.030201  2.030202  2.030301  2.030302\n",
              "tkr_1.3  2.040101  2.040102  2.040201  2.040202  2.040301  2.040302"
            ]
          },
          "execution_count": 50,
          "metadata": {},
          "output_type": "execute_result"
        }
      ],
      "source": [
        "df_data = pd.DataFrame(np.array(data), index =tickeridx, columns =indlist)\n",
        "df_data"
      ]
    },
    {
      "cell_type": "code",
      "execution_count": 103,
      "metadata": {
        "id": "gODeuF4erWUu"
      },
      "outputs": [],
      "source": [
        "df1 = pd.DataFrame(\n",
        "     {\n",
        "         \"A\": [\"A0\", \"A1\", \"A2\", \"A3\"],\n",
        "         \"B\": [\"B0\", \"B1\", \"B2\", \"B3\"],\n",
        "         \"C\": [\"C0\", \"C1\", \"C2\", \"C3\"],\n",
        "         \"D\": [\"D0\", \"D1\", \"D2\", \"D3\"],\n",
        "     },\n",
        "     index=[0, 1, 2, 3],\n",
        " )\n",
        " \n",
        "\n",
        "df2 = pd.DataFrame(\n",
        "     {\n",
        "         \"A\": [\"A4\", \"A5\", \"A6\", \"A7\"],\n",
        "         \"B\": [\"B4\", \"B5\", \"B6\", \"B7\"],\n",
        "         \"C\": [\"C4\", \"C5\", \"C6\", \"C7\"],\n",
        "         \"D\": [\"D4\", \"D5\", \"D6\", \"D7\"],\n",
        "     },\n",
        "     index=[0, 1, 2, 3],\n",
        " )\n",
        " \n",
        "\n",
        "df3 = pd.DataFrame(\n",
        "     {\n",
        "         \"A\": [\"A8\", \"A9\", \"A10\", \"A11\"],\n",
        "         \"B\": [\"B8\", \"B9\", \"B10\", \"B11\"],\n",
        "         \"C\": [\"C8\", \"C9\", \"C10\", \"C11\"],\n",
        "         \"D\": [\"D8\", \"D9\", \"D10\", \"D11\"],\n",
        "     },\n",
        "       index=[0, 1, 2, 3],\n",
        " )\n",
        " \n",
        "\n",
        "frames = [df1, df2, df3]\n",
        "\n",
        "result = pd.concat(frames)"
      ]
    },
    {
      "cell_type": "code",
      "execution_count": 29,
      "metadata": {
        "colab": {
          "base_uri": "https://localhost:8080/",
          "height": 422
        },
        "id": "3cwkIW_7xepk",
        "outputId": "e180ce0f-e63c-4299-f541-5ed85c1a12f4"
      },
      "outputs": [
        {
          "data": {
            "text/html": [
              "<div>\n",
              "<style scoped>\n",
              "    .dataframe tbody tr th:only-of-type {\n",
              "        vertical-align: middle;\n",
              "    }\n",
              "\n",
              "    .dataframe tbody tr th {\n",
              "        vertical-align: top;\n",
              "    }\n",
              "\n",
              "    .dataframe thead th {\n",
              "        text-align: right;\n",
              "    }\n",
              "</style>\n",
              "<table border=\"1\" class=\"dataframe\">\n",
              "  <thead>\n",
              "    <tr style=\"text-align: right;\">\n",
              "      <th></th>\n",
              "      <th>A</th>\n",
              "      <th>B</th>\n",
              "      <th>C</th>\n",
              "      <th>D</th>\n",
              "    </tr>\n",
              "  </thead>\n",
              "  <tbody>\n",
              "    <tr>\n",
              "      <th>0</th>\n",
              "      <td>A0</td>\n",
              "      <td>B0</td>\n",
              "      <td>C0</td>\n",
              "      <td>D0</td>\n",
              "    </tr>\n",
              "    <tr>\n",
              "      <th>1</th>\n",
              "      <td>A1</td>\n",
              "      <td>B1</td>\n",
              "      <td>C1</td>\n",
              "      <td>D1</td>\n",
              "    </tr>\n",
              "    <tr>\n",
              "      <th>2</th>\n",
              "      <td>A2</td>\n",
              "      <td>B2</td>\n",
              "      <td>C2</td>\n",
              "      <td>D2</td>\n",
              "    </tr>\n",
              "    <tr>\n",
              "      <th>3</th>\n",
              "      <td>A3</td>\n",
              "      <td>B3</td>\n",
              "      <td>C3</td>\n",
              "      <td>D3</td>\n",
              "    </tr>\n",
              "    <tr>\n",
              "      <th>0</th>\n",
              "      <td>A4</td>\n",
              "      <td>B4</td>\n",
              "      <td>C4</td>\n",
              "      <td>D4</td>\n",
              "    </tr>\n",
              "    <tr>\n",
              "      <th>1</th>\n",
              "      <td>A5</td>\n",
              "      <td>B5</td>\n",
              "      <td>C5</td>\n",
              "      <td>D5</td>\n",
              "    </tr>\n",
              "    <tr>\n",
              "      <th>2</th>\n",
              "      <td>A6</td>\n",
              "      <td>B6</td>\n",
              "      <td>C6</td>\n",
              "      <td>D6</td>\n",
              "    </tr>\n",
              "    <tr>\n",
              "      <th>3</th>\n",
              "      <td>A7</td>\n",
              "      <td>B7</td>\n",
              "      <td>C7</td>\n",
              "      <td>D7</td>\n",
              "    </tr>\n",
              "    <tr>\n",
              "      <th>0</th>\n",
              "      <td>A8</td>\n",
              "      <td>B8</td>\n",
              "      <td>C8</td>\n",
              "      <td>D8</td>\n",
              "    </tr>\n",
              "    <tr>\n",
              "      <th>1</th>\n",
              "      <td>A9</td>\n",
              "      <td>B9</td>\n",
              "      <td>C9</td>\n",
              "      <td>D9</td>\n",
              "    </tr>\n",
              "    <tr>\n",
              "      <th>2</th>\n",
              "      <td>A10</td>\n",
              "      <td>B10</td>\n",
              "      <td>C10</td>\n",
              "      <td>D10</td>\n",
              "    </tr>\n",
              "    <tr>\n",
              "      <th>3</th>\n",
              "      <td>A11</td>\n",
              "      <td>B11</td>\n",
              "      <td>C11</td>\n",
              "      <td>D11</td>\n",
              "    </tr>\n",
              "  </tbody>\n",
              "</table>\n",
              "</div>"
            ],
            "text/plain": [
              "     A    B    C    D\n",
              "0   A0   B0   C0   D0\n",
              "1   A1   B1   C1   D1\n",
              "2   A2   B2   C2   D2\n",
              "3   A3   B3   C3   D3\n",
              "0   A4   B4   C4   D4\n",
              "1   A5   B5   C5   D5\n",
              "2   A6   B6   C6   D6\n",
              "3   A7   B7   C7   D7\n",
              "0   A8   B8   C8   D8\n",
              "1   A9   B9   C9   D9\n",
              "2  A10  B10  C10  D10\n",
              "3  A11  B11  C11  D11"
            ]
          },
          "execution_count": 29,
          "metadata": {},
          "output_type": "execute_result"
        }
      ],
      "source": [
        "result"
      ]
    },
    {
      "cell_type": "code",
      "execution_count": 37,
      "metadata": {
        "id": "cdpceKwMs_tj"
      },
      "outputs": [],
      "source": [
        "df0 = pd.concat([df1,df2])"
      ]
    },
    {
      "cell_type": "code",
      "execution_count": 38,
      "metadata": {
        "colab": {
          "base_uri": "https://localhost:8080/",
          "height": 422
        },
        "id": "QjTiqvy3yJ-k",
        "outputId": "bc1d9ad4-2583-4529-e354-6e5e2e9f7bdd"
      },
      "outputs": [
        {
          "data": {
            "text/html": [
              "<div>\n",
              "<style scoped>\n",
              "    .dataframe tbody tr th:only-of-type {\n",
              "        vertical-align: middle;\n",
              "    }\n",
              "\n",
              "    .dataframe tbody tr th {\n",
              "        vertical-align: top;\n",
              "    }\n",
              "\n",
              "    .dataframe thead th {\n",
              "        text-align: right;\n",
              "    }\n",
              "</style>\n",
              "<table border=\"1\" class=\"dataframe\">\n",
              "  <thead>\n",
              "    <tr style=\"text-align: right;\">\n",
              "      <th></th>\n",
              "      <th>A</th>\n",
              "      <th>B</th>\n",
              "      <th>C</th>\n",
              "      <th>D</th>\n",
              "    </tr>\n",
              "  </thead>\n",
              "  <tbody>\n",
              "    <tr>\n",
              "      <th>0</th>\n",
              "      <td>A0</td>\n",
              "      <td>B0</td>\n",
              "      <td>C0</td>\n",
              "      <td>D0</td>\n",
              "    </tr>\n",
              "    <tr>\n",
              "      <th>1</th>\n",
              "      <td>A1</td>\n",
              "      <td>B1</td>\n",
              "      <td>C1</td>\n",
              "      <td>D1</td>\n",
              "    </tr>\n",
              "    <tr>\n",
              "      <th>2</th>\n",
              "      <td>A2</td>\n",
              "      <td>B2</td>\n",
              "      <td>C2</td>\n",
              "      <td>D2</td>\n",
              "    </tr>\n",
              "    <tr>\n",
              "      <th>3</th>\n",
              "      <td>A3</td>\n",
              "      <td>B3</td>\n",
              "      <td>C3</td>\n",
              "      <td>D3</td>\n",
              "    </tr>\n",
              "    <tr>\n",
              "      <th>0</th>\n",
              "      <td>A4</td>\n",
              "      <td>B4</td>\n",
              "      <td>C4</td>\n",
              "      <td>D4</td>\n",
              "    </tr>\n",
              "    <tr>\n",
              "      <th>1</th>\n",
              "      <td>A5</td>\n",
              "      <td>B5</td>\n",
              "      <td>C5</td>\n",
              "      <td>D5</td>\n",
              "    </tr>\n",
              "    <tr>\n",
              "      <th>2</th>\n",
              "      <td>A6</td>\n",
              "      <td>B6</td>\n",
              "      <td>C6</td>\n",
              "      <td>D6</td>\n",
              "    </tr>\n",
              "    <tr>\n",
              "      <th>3</th>\n",
              "      <td>A7</td>\n",
              "      <td>B7</td>\n",
              "      <td>C7</td>\n",
              "      <td>D7</td>\n",
              "    </tr>\n",
              "    <tr>\n",
              "      <th>0</th>\n",
              "      <td>A8</td>\n",
              "      <td>B8</td>\n",
              "      <td>C8</td>\n",
              "      <td>D8</td>\n",
              "    </tr>\n",
              "    <tr>\n",
              "      <th>1</th>\n",
              "      <td>A9</td>\n",
              "      <td>B9</td>\n",
              "      <td>C9</td>\n",
              "      <td>D9</td>\n",
              "    </tr>\n",
              "    <tr>\n",
              "      <th>2</th>\n",
              "      <td>A10</td>\n",
              "      <td>B10</td>\n",
              "      <td>C10</td>\n",
              "      <td>D10</td>\n",
              "    </tr>\n",
              "    <tr>\n",
              "      <th>3</th>\n",
              "      <td>A11</td>\n",
              "      <td>B11</td>\n",
              "      <td>C11</td>\n",
              "      <td>D11</td>\n",
              "    </tr>\n",
              "  </tbody>\n",
              "</table>\n",
              "</div>"
            ],
            "text/plain": [
              "     A    B    C    D\n",
              "0   A0   B0   C0   D0\n",
              "1   A1   B1   C1   D1\n",
              "2   A2   B2   C2   D2\n",
              "3   A3   B3   C3   D3\n",
              "0   A4   B4   C4   D4\n",
              "1   A5   B5   C5   D5\n",
              "2   A6   B6   C6   D6\n",
              "3   A7   B7   C7   D7\n",
              "0   A8   B8   C8   D8\n",
              "1   A9   B9   C9   D9\n",
              "2  A10  B10  C10  D10\n",
              "3  A11  B11  C11  D11"
            ]
          },
          "execution_count": 38,
          "metadata": {},
          "output_type": "execute_result"
        }
      ],
      "source": [
        "pd.concat([df0,df3])"
      ]
    },
    {
      "cell_type": "code",
      "execution_count": 30,
      "metadata": {
        "id": "fgFBB0eztCce"
      },
      "outputs": [],
      "source": [
        "result = pd.concat(frames, keys=[\"x\", \"y\", \"z\"])"
      ]
    },
    {
      "cell_type": "code",
      "execution_count": 31,
      "metadata": {
        "colab": {
          "base_uri": "https://localhost:8080/",
          "height": 422
        },
        "id": "egDhF3qpw8Bc",
        "outputId": "03811194-aeb9-4b91-e6dd-16e81bb775fb"
      },
      "outputs": [
        {
          "data": {
            "text/html": [
              "<div>\n",
              "<style scoped>\n",
              "    .dataframe tbody tr th:only-of-type {\n",
              "        vertical-align: middle;\n",
              "    }\n",
              "\n",
              "    .dataframe tbody tr th {\n",
              "        vertical-align: top;\n",
              "    }\n",
              "\n",
              "    .dataframe thead th {\n",
              "        text-align: right;\n",
              "    }\n",
              "</style>\n",
              "<table border=\"1\" class=\"dataframe\">\n",
              "  <thead>\n",
              "    <tr style=\"text-align: right;\">\n",
              "      <th></th>\n",
              "      <th></th>\n",
              "      <th>A</th>\n",
              "      <th>B</th>\n",
              "      <th>C</th>\n",
              "      <th>D</th>\n",
              "    </tr>\n",
              "  </thead>\n",
              "  <tbody>\n",
              "    <tr>\n",
              "      <th rowspan=\"4\" valign=\"top\">x</th>\n",
              "      <th>0</th>\n",
              "      <td>A0</td>\n",
              "      <td>B0</td>\n",
              "      <td>C0</td>\n",
              "      <td>D0</td>\n",
              "    </tr>\n",
              "    <tr>\n",
              "      <th>1</th>\n",
              "      <td>A1</td>\n",
              "      <td>B1</td>\n",
              "      <td>C1</td>\n",
              "      <td>D1</td>\n",
              "    </tr>\n",
              "    <tr>\n",
              "      <th>2</th>\n",
              "      <td>A2</td>\n",
              "      <td>B2</td>\n",
              "      <td>C2</td>\n",
              "      <td>D2</td>\n",
              "    </tr>\n",
              "    <tr>\n",
              "      <th>3</th>\n",
              "      <td>A3</td>\n",
              "      <td>B3</td>\n",
              "      <td>C3</td>\n",
              "      <td>D3</td>\n",
              "    </tr>\n",
              "    <tr>\n",
              "      <th rowspan=\"4\" valign=\"top\">y</th>\n",
              "      <th>0</th>\n",
              "      <td>A4</td>\n",
              "      <td>B4</td>\n",
              "      <td>C4</td>\n",
              "      <td>D4</td>\n",
              "    </tr>\n",
              "    <tr>\n",
              "      <th>1</th>\n",
              "      <td>A5</td>\n",
              "      <td>B5</td>\n",
              "      <td>C5</td>\n",
              "      <td>D5</td>\n",
              "    </tr>\n",
              "    <tr>\n",
              "      <th>2</th>\n",
              "      <td>A6</td>\n",
              "      <td>B6</td>\n",
              "      <td>C6</td>\n",
              "      <td>D6</td>\n",
              "    </tr>\n",
              "    <tr>\n",
              "      <th>3</th>\n",
              "      <td>A7</td>\n",
              "      <td>B7</td>\n",
              "      <td>C7</td>\n",
              "      <td>D7</td>\n",
              "    </tr>\n",
              "    <tr>\n",
              "      <th rowspan=\"4\" valign=\"top\">z</th>\n",
              "      <th>0</th>\n",
              "      <td>A8</td>\n",
              "      <td>B8</td>\n",
              "      <td>C8</td>\n",
              "      <td>D8</td>\n",
              "    </tr>\n",
              "    <tr>\n",
              "      <th>1</th>\n",
              "      <td>A9</td>\n",
              "      <td>B9</td>\n",
              "      <td>C9</td>\n",
              "      <td>D9</td>\n",
              "    </tr>\n",
              "    <tr>\n",
              "      <th>2</th>\n",
              "      <td>A10</td>\n",
              "      <td>B10</td>\n",
              "      <td>C10</td>\n",
              "      <td>D10</td>\n",
              "    </tr>\n",
              "    <tr>\n",
              "      <th>3</th>\n",
              "      <td>A11</td>\n",
              "      <td>B11</td>\n",
              "      <td>C11</td>\n",
              "      <td>D11</td>\n",
              "    </tr>\n",
              "  </tbody>\n",
              "</table>\n",
              "</div>"
            ],
            "text/plain": [
              "       A    B    C    D\n",
              "x 0   A0   B0   C0   D0\n",
              "  1   A1   B1   C1   D1\n",
              "  2   A2   B2   C2   D2\n",
              "  3   A3   B3   C3   D3\n",
              "y 0   A4   B4   C4   D4\n",
              "  1   A5   B5   C5   D5\n",
              "  2   A6   B6   C6   D6\n",
              "  3   A7   B7   C7   D7\n",
              "z 0   A8   B8   C8   D8\n",
              "  1   A9   B9   C9   D9\n",
              "  2  A10  B10  C10  D10\n",
              "  3  A11  B11  C11  D11"
            ]
          },
          "execution_count": 31,
          "metadata": {},
          "output_type": "execute_result"
        }
      ],
      "source": [
        "result"
      ]
    },
    {
      "cell_type": "code",
      "execution_count": 23,
      "metadata": {
        "colab": {
          "base_uri": "https://localhost:8080/",
          "height": 285
        },
        "id": "XRUbmwDPw9mb",
        "outputId": "36c24c28-e9cb-482e-b43a-11d3890c9e84"
      },
      "outputs": [
        {
          "data": {
            "text/html": [
              "<div><svg style=\"position: absolute; width: 0; height: 0; overflow: hidden\">\n",
              "<defs>\n",
              "<symbol id=\"icon-database\" viewBox=\"0 0 32 32\">\n",
              "<path d=\"M16 0c-8.837 0-16 2.239-16 5v4c0 2.761 7.163 5 16 5s16-2.239 16-5v-4c0-2.761-7.163-5-16-5z\"></path>\n",
              "<path d=\"M16 17c-8.837 0-16-2.239-16-5v6c0 2.761 7.163 5 16 5s16-2.239 16-5v-6c0 2.761-7.163 5-16 5z\"></path>\n",
              "<path d=\"M16 26c-8.837 0-16-2.239-16-5v6c0 2.761 7.163 5 16 5s16-2.239 16-5v-6c0 2.761-7.163 5-16 5z\"></path>\n",
              "</symbol>\n",
              "<symbol id=\"icon-file-text2\" viewBox=\"0 0 32 32\">\n",
              "<path d=\"M28.681 7.159c-0.694-0.947-1.662-2.053-2.724-3.116s-2.169-2.030-3.116-2.724c-1.612-1.182-2.393-1.319-2.841-1.319h-15.5c-1.378 0-2.5 1.121-2.5 2.5v27c0 1.378 1.122 2.5 2.5 2.5h23c1.378 0 2.5-1.122 2.5-2.5v-19.5c0-0.448-0.137-1.23-1.319-2.841zM24.543 5.457c0.959 0.959 1.712 1.825 2.268 2.543h-4.811v-4.811c0.718 0.556 1.584 1.309 2.543 2.268zM28 29.5c0 0.271-0.229 0.5-0.5 0.5h-23c-0.271 0-0.5-0.229-0.5-0.5v-27c0-0.271 0.229-0.5 0.5-0.5 0 0 15.499-0 15.5 0v7c0 0.552 0.448 1 1 1h7v19.5z\"></path>\n",
              "<path d=\"M23 26h-14c-0.552 0-1-0.448-1-1s0.448-1 1-1h14c0.552 0 1 0.448 1 1s-0.448 1-1 1z\"></path>\n",
              "<path d=\"M23 22h-14c-0.552 0-1-0.448-1-1s0.448-1 1-1h14c0.552 0 1 0.448 1 1s-0.448 1-1 1z\"></path>\n",
              "<path d=\"M23 18h-14c-0.552 0-1-0.448-1-1s0.448-1 1-1h14c0.552 0 1 0.448 1 1s-0.448 1-1 1z\"></path>\n",
              "</symbol>\n",
              "</defs>\n",
              "</svg>\n",
              "<style>/* CSS stylesheet for displaying xarray objects in jupyterlab.\n",
              " *\n",
              " */\n",
              "\n",
              ":root {\n",
              "  --xr-font-color0: var(--jp-content-font-color0, rgba(0, 0, 0, 1));\n",
              "  --xr-font-color2: var(--jp-content-font-color2, rgba(0, 0, 0, 0.54));\n",
              "  --xr-font-color3: var(--jp-content-font-color3, rgba(0, 0, 0, 0.38));\n",
              "  --xr-border-color: var(--jp-border-color2, #e0e0e0);\n",
              "  --xr-disabled-color: var(--jp-layout-color3, #bdbdbd);\n",
              "  --xr-background-color: var(--jp-layout-color0, white);\n",
              "  --xr-background-color-row-even: var(--jp-layout-color1, white);\n",
              "  --xr-background-color-row-odd: var(--jp-layout-color2, #eeeeee);\n",
              "}\n",
              "\n",
              "html[theme=dark],\n",
              "body.vscode-dark {\n",
              "  --xr-font-color0: rgba(255, 255, 255, 1);\n",
              "  --xr-font-color2: rgba(255, 255, 255, 0.54);\n",
              "  --xr-font-color3: rgba(255, 255, 255, 0.38);\n",
              "  --xr-border-color: #1F1F1F;\n",
              "  --xr-disabled-color: #515151;\n",
              "  --xr-background-color: #111111;\n",
              "  --xr-background-color-row-even: #111111;\n",
              "  --xr-background-color-row-odd: #313131;\n",
              "}\n",
              "\n",
              ".xr-wrap {\n",
              "  display: block;\n",
              "  min-width: 300px;\n",
              "  max-width: 700px;\n",
              "}\n",
              "\n",
              ".xr-text-repr-fallback {\n",
              "  /* fallback to plain text repr when CSS is not injected (untrusted notebook) */\n",
              "  display: none;\n",
              "}\n",
              "\n",
              ".xr-header {\n",
              "  padding-top: 6px;\n",
              "  padding-bottom: 6px;\n",
              "  margin-bottom: 4px;\n",
              "  border-bottom: solid 1px var(--xr-border-color);\n",
              "}\n",
              "\n",
              ".xr-header > div,\n",
              ".xr-header > ul {\n",
              "  display: inline;\n",
              "  margin-top: 0;\n",
              "  margin-bottom: 0;\n",
              "}\n",
              "\n",
              ".xr-obj-type,\n",
              ".xr-array-name {\n",
              "  margin-left: 2px;\n",
              "  margin-right: 10px;\n",
              "}\n",
              "\n",
              ".xr-obj-type {\n",
              "  color: var(--xr-font-color2);\n",
              "}\n",
              "\n",
              ".xr-sections {\n",
              "  padding-left: 0 !important;\n",
              "  display: grid;\n",
              "  grid-template-columns: 150px auto auto 1fr 20px 20px;\n",
              "}\n",
              "\n",
              ".xr-section-item {\n",
              "  display: contents;\n",
              "}\n",
              "\n",
              ".xr-section-item input {\n",
              "  display: none;\n",
              "}\n",
              "\n",
              ".xr-section-item input + label {\n",
              "  color: var(--xr-disabled-color);\n",
              "}\n",
              "\n",
              ".xr-section-item input:enabled + label {\n",
              "  cursor: pointer;\n",
              "  color: var(--xr-font-color2);\n",
              "}\n",
              "\n",
              ".xr-section-item input:enabled + label:hover {\n",
              "  color: var(--xr-font-color0);\n",
              "}\n",
              "\n",
              ".xr-section-summary {\n",
              "  grid-column: 1;\n",
              "  color: var(--xr-font-color2);\n",
              "  font-weight: 500;\n",
              "}\n",
              "\n",
              ".xr-section-summary > span {\n",
              "  display: inline-block;\n",
              "  padding-left: 0.5em;\n",
              "}\n",
              "\n",
              ".xr-section-summary-in:disabled + label {\n",
              "  color: var(--xr-font-color2);\n",
              "}\n",
              "\n",
              ".xr-section-summary-in + label:before {\n",
              "  display: inline-block;\n",
              "  content: '►';\n",
              "  font-size: 11px;\n",
              "  width: 15px;\n",
              "  text-align: center;\n",
              "}\n",
              "\n",
              ".xr-section-summary-in:disabled + label:before {\n",
              "  color: var(--xr-disabled-color);\n",
              "}\n",
              "\n",
              ".xr-section-summary-in:checked + label:before {\n",
              "  content: '▼';\n",
              "}\n",
              "\n",
              ".xr-section-summary-in:checked + label > span {\n",
              "  display: none;\n",
              "}\n",
              "\n",
              ".xr-section-summary,\n",
              ".xr-section-inline-details {\n",
              "  padding-top: 4px;\n",
              "  padding-bottom: 4px;\n",
              "}\n",
              "\n",
              ".xr-section-inline-details {\n",
              "  grid-column: 2 / -1;\n",
              "}\n",
              "\n",
              ".xr-section-details {\n",
              "  display: none;\n",
              "  grid-column: 1 / -1;\n",
              "  margin-bottom: 5px;\n",
              "}\n",
              "\n",
              ".xr-section-summary-in:checked ~ .xr-section-details {\n",
              "  display: contents;\n",
              "}\n",
              "\n",
              ".xr-array-wrap {\n",
              "  grid-column: 1 / -1;\n",
              "  display: grid;\n",
              "  grid-template-columns: 20px auto;\n",
              "}\n",
              "\n",
              ".xr-array-wrap > label {\n",
              "  grid-column: 1;\n",
              "  vertical-align: top;\n",
              "}\n",
              "\n",
              ".xr-preview {\n",
              "  color: var(--xr-font-color3);\n",
              "}\n",
              "\n",
              ".xr-array-preview,\n",
              ".xr-array-data {\n",
              "  padding: 0 5px !important;\n",
              "  grid-column: 2;\n",
              "}\n",
              "\n",
              ".xr-array-data,\n",
              ".xr-array-in:checked ~ .xr-array-preview {\n",
              "  display: none;\n",
              "}\n",
              "\n",
              ".xr-array-in:checked ~ .xr-array-data,\n",
              ".xr-array-preview {\n",
              "  display: inline-block;\n",
              "}\n",
              "\n",
              ".xr-dim-list {\n",
              "  display: inline-block !important;\n",
              "  list-style: none;\n",
              "  padding: 0 !important;\n",
              "  margin: 0;\n",
              "}\n",
              "\n",
              ".xr-dim-list li {\n",
              "  display: inline-block;\n",
              "  padding: 0;\n",
              "  margin: 0;\n",
              "}\n",
              "\n",
              ".xr-dim-list:before {\n",
              "  content: '(';\n",
              "}\n",
              "\n",
              ".xr-dim-list:after {\n",
              "  content: ')';\n",
              "}\n",
              "\n",
              ".xr-dim-list li:not(:last-child):after {\n",
              "  content: ',';\n",
              "  padding-right: 5px;\n",
              "}\n",
              "\n",
              ".xr-has-index {\n",
              "  font-weight: bold;\n",
              "}\n",
              "\n",
              ".xr-var-list,\n",
              ".xr-var-item {\n",
              "  display: contents;\n",
              "}\n",
              "\n",
              ".xr-var-item > div,\n",
              ".xr-var-item label,\n",
              ".xr-var-item > .xr-var-name span {\n",
              "  background-color: var(--xr-background-color-row-even);\n",
              "  margin-bottom: 0;\n",
              "}\n",
              "\n",
              ".xr-var-item > .xr-var-name:hover span {\n",
              "  padding-right: 5px;\n",
              "}\n",
              "\n",
              ".xr-var-list > li:nth-child(odd) > div,\n",
              ".xr-var-list > li:nth-child(odd) > label,\n",
              ".xr-var-list > li:nth-child(odd) > .xr-var-name span {\n",
              "  background-color: var(--xr-background-color-row-odd);\n",
              "}\n",
              "\n",
              ".xr-var-name {\n",
              "  grid-column: 1;\n",
              "}\n",
              "\n",
              ".xr-var-dims {\n",
              "  grid-column: 2;\n",
              "}\n",
              "\n",
              ".xr-var-dtype {\n",
              "  grid-column: 3;\n",
              "  text-align: right;\n",
              "  color: var(--xr-font-color2);\n",
              "}\n",
              "\n",
              ".xr-var-preview {\n",
              "  grid-column: 4;\n",
              "}\n",
              "\n",
              ".xr-var-name,\n",
              ".xr-var-dims,\n",
              ".xr-var-dtype,\n",
              ".xr-preview,\n",
              ".xr-attrs dt {\n",
              "  white-space: nowrap;\n",
              "  overflow: hidden;\n",
              "  text-overflow: ellipsis;\n",
              "  padding-right: 10px;\n",
              "}\n",
              "\n",
              ".xr-var-name:hover,\n",
              ".xr-var-dims:hover,\n",
              ".xr-var-dtype:hover,\n",
              ".xr-attrs dt:hover {\n",
              "  overflow: visible;\n",
              "  width: auto;\n",
              "  z-index: 1;\n",
              "}\n",
              "\n",
              ".xr-var-attrs,\n",
              ".xr-var-data {\n",
              "  display: none;\n",
              "  background-color: var(--xr-background-color) !important;\n",
              "  padding-bottom: 5px !important;\n",
              "}\n",
              "\n",
              ".xr-var-attrs-in:checked ~ .xr-var-attrs,\n",
              ".xr-var-data-in:checked ~ .xr-var-data {\n",
              "  display: block;\n",
              "}\n",
              "\n",
              ".xr-var-data > table {\n",
              "  float: right;\n",
              "}\n",
              "\n",
              ".xr-var-name span,\n",
              ".xr-var-data,\n",
              ".xr-attrs {\n",
              "  padding-left: 25px !important;\n",
              "}\n",
              "\n",
              ".xr-attrs,\n",
              ".xr-var-attrs,\n",
              ".xr-var-data {\n",
              "  grid-column: 1 / -1;\n",
              "}\n",
              "\n",
              "dl.xr-attrs {\n",
              "  padding: 0;\n",
              "  margin: 0;\n",
              "  display: grid;\n",
              "  grid-template-columns: 125px auto;\n",
              "}\n",
              "\n",
              ".xr-attrs dt,\n",
              ".xr-attrs dd {\n",
              "  padding: 0;\n",
              "  margin: 0;\n",
              "  float: left;\n",
              "  padding-right: 10px;\n",
              "  width: auto;\n",
              "}\n",
              "\n",
              ".xr-attrs dt {\n",
              "  font-weight: normal;\n",
              "  grid-column: 1;\n",
              "}\n",
              "\n",
              ".xr-attrs dt:hover span {\n",
              "  display: inline-block;\n",
              "  background: var(--xr-background-color);\n",
              "  padding-right: 10px;\n",
              "}\n",
              "\n",
              ".xr-attrs dd {\n",
              "  grid-column: 2;\n",
              "  white-space: pre-wrap;\n",
              "  word-break: break-all;\n",
              "}\n",
              "\n",
              ".xr-icon-database,\n",
              ".xr-icon-file-text2 {\n",
              "  display: inline-block;\n",
              "  vertical-align: middle;\n",
              "  width: 1em;\n",
              "  height: 1.5em !important;\n",
              "  stroke-width: 0;\n",
              "  stroke: currentColor;\n",
              "  fill: currentColor;\n",
              "}\n",
              "</style><pre class='xr-text-repr-fallback'>&lt;xarray.Dataset&gt;\n",
              "Dimensions:  (level_0: 3, level_1: 12)\n",
              "Coordinates:\n",
              "  * level_0  (level_0) object &#x27;x&#x27; &#x27;y&#x27; &#x27;z&#x27;\n",
              "  * level_1  (level_1) int64 0 1 2 3 4 5 6 7 8 9 10 11\n",
              "Data variables:\n",
              "    A        (level_0, level_1) object &#x27;A0&#x27; &#x27;A1&#x27; &#x27;A2&#x27; &#x27;A3&#x27; ... &#x27;A9&#x27; &#x27;A10&#x27; &#x27;A11&#x27;\n",
              "    B        (level_0, level_1) object &#x27;B0&#x27; &#x27;B1&#x27; &#x27;B2&#x27; &#x27;B3&#x27; ... &#x27;B9&#x27; &#x27;B10&#x27; &#x27;B11&#x27;\n",
              "    C        (level_0, level_1) object &#x27;C0&#x27; &#x27;C1&#x27; &#x27;C2&#x27; &#x27;C3&#x27; ... &#x27;C9&#x27; &#x27;C10&#x27; &#x27;C11&#x27;\n",
              "    D        (level_0, level_1) object &#x27;D0&#x27; &#x27;D1&#x27; &#x27;D2&#x27; &#x27;D3&#x27; ... &#x27;D9&#x27; &#x27;D10&#x27; &#x27;D11&#x27;</pre><div class='xr-wrap' hidden><div class='xr-header'><div class='xr-obj-type'>xarray.Dataset</div></div><ul class='xr-sections'><li class='xr-section-item'><input id='section-d9b771c9-6e0a-4134-a1ef-07a25fc781e8' class='xr-section-summary-in' type='checkbox' disabled ><label for='section-d9b771c9-6e0a-4134-a1ef-07a25fc781e8' class='xr-section-summary'  title='Expand/collapse section'>Dimensions:</label><div class='xr-section-inline-details'><ul class='xr-dim-list'><li><span class='xr-has-index'>level_0</span>: 3</li><li><span class='xr-has-index'>level_1</span>: 12</li></ul></div><div class='xr-section-details'></div></li><li class='xr-section-item'><input id='section-13a15963-c3c1-42ce-962e-0440b0fbf1ea' class='xr-section-summary-in' type='checkbox'  checked><label for='section-13a15963-c3c1-42ce-962e-0440b0fbf1ea' class='xr-section-summary' >Coordinates: <span>(2)</span></label><div class='xr-section-inline-details'></div><div class='xr-section-details'><ul class='xr-var-list'><li class='xr-var-item'><div class='xr-var-name'><span class='xr-has-index'>level_0</span></div><div class='xr-var-dims'>(level_0)</div><div class='xr-var-dtype'>object</div><div class='xr-var-preview xr-preview'>&#x27;x&#x27; &#x27;y&#x27; &#x27;z&#x27;</div><input id='attrs-d5e80015-a0a0-456e-8923-9022906ad821' class='xr-var-attrs-in' type='checkbox' disabled><label for='attrs-d5e80015-a0a0-456e-8923-9022906ad821' title='Show/Hide attributes'><svg class='icon xr-icon-file-text2'><use xlink:href='#icon-file-text2'></use></svg></label><input id='data-1e09ada7-1ae6-41a2-befb-35c291ed84cb' class='xr-var-data-in' type='checkbox'><label for='data-1e09ada7-1ae6-41a2-befb-35c291ed84cb' title='Show/Hide data repr'><svg class='icon xr-icon-database'><use xlink:href='#icon-database'></use></svg></label><div class='xr-var-attrs'><dl class='xr-attrs'></dl></div><div class='xr-var-data'><pre>array([&#x27;x&#x27;, &#x27;y&#x27;, &#x27;z&#x27;], dtype=object)</pre></div></li><li class='xr-var-item'><div class='xr-var-name'><span class='xr-has-index'>level_1</span></div><div class='xr-var-dims'>(level_1)</div><div class='xr-var-dtype'>int64</div><div class='xr-var-preview xr-preview'>0 1 2 3 4 5 6 7 8 9 10 11</div><input id='attrs-d2b8251f-61e9-46c7-8795-a265565d6453' class='xr-var-attrs-in' type='checkbox' disabled><label for='attrs-d2b8251f-61e9-46c7-8795-a265565d6453' title='Show/Hide attributes'><svg class='icon xr-icon-file-text2'><use xlink:href='#icon-file-text2'></use></svg></label><input id='data-b27276c9-02bc-44c7-bb39-8361f040c508' class='xr-var-data-in' type='checkbox'><label for='data-b27276c9-02bc-44c7-bb39-8361f040c508' title='Show/Hide data repr'><svg class='icon xr-icon-database'><use xlink:href='#icon-database'></use></svg></label><div class='xr-var-attrs'><dl class='xr-attrs'></dl></div><div class='xr-var-data'><pre>array([ 0,  1,  2,  3,  4,  5,  6,  7,  8,  9, 10, 11])</pre></div></li></ul></div></li><li class='xr-section-item'><input id='section-a3e0a1f9-45fa-47d7-899d-4efb1f998795' class='xr-section-summary-in' type='checkbox'  checked><label for='section-a3e0a1f9-45fa-47d7-899d-4efb1f998795' class='xr-section-summary' >Data variables: <span>(4)</span></label><div class='xr-section-inline-details'></div><div class='xr-section-details'><ul class='xr-var-list'><li class='xr-var-item'><div class='xr-var-name'><span>A</span></div><div class='xr-var-dims'>(level_0, level_1)</div><div class='xr-var-dtype'>object</div><div class='xr-var-preview xr-preview'>&#x27;A0&#x27; &#x27;A1&#x27; &#x27;A2&#x27; ... &#x27;A9&#x27; &#x27;A10&#x27; &#x27;A11&#x27;</div><input id='attrs-cb172c52-1a82-4c9e-a14c-dcde0b8048e0' class='xr-var-attrs-in' type='checkbox' disabled><label for='attrs-cb172c52-1a82-4c9e-a14c-dcde0b8048e0' title='Show/Hide attributes'><svg class='icon xr-icon-file-text2'><use xlink:href='#icon-file-text2'></use></svg></label><input id='data-48d13f70-8b11-45ba-88ee-e80f5d5e6d6f' class='xr-var-data-in' type='checkbox'><label for='data-48d13f70-8b11-45ba-88ee-e80f5d5e6d6f' title='Show/Hide data repr'><svg class='icon xr-icon-database'><use xlink:href='#icon-database'></use></svg></label><div class='xr-var-attrs'><dl class='xr-attrs'></dl></div><div class='xr-var-data'><pre>array([[&#x27;A0&#x27;, &#x27;A1&#x27;, &#x27;A2&#x27;, &#x27;A3&#x27;, nan, nan, nan, nan, nan, nan, nan, nan],\n",
              "       [nan, nan, nan, nan, &#x27;A4&#x27;, &#x27;A5&#x27;, &#x27;A6&#x27;, &#x27;A7&#x27;, nan, nan, nan, nan],\n",
              "       [nan, nan, nan, nan, nan, nan, nan, nan, &#x27;A8&#x27;, &#x27;A9&#x27;, &#x27;A10&#x27;, &#x27;A11&#x27;]],\n",
              "      dtype=object)</pre></div></li><li class='xr-var-item'><div class='xr-var-name'><span>B</span></div><div class='xr-var-dims'>(level_0, level_1)</div><div class='xr-var-dtype'>object</div><div class='xr-var-preview xr-preview'>&#x27;B0&#x27; &#x27;B1&#x27; &#x27;B2&#x27; ... &#x27;B9&#x27; &#x27;B10&#x27; &#x27;B11&#x27;</div><input id='attrs-00399bf4-ecee-40ca-bb30-72db1cfd5bc8' class='xr-var-attrs-in' type='checkbox' disabled><label for='attrs-00399bf4-ecee-40ca-bb30-72db1cfd5bc8' title='Show/Hide attributes'><svg class='icon xr-icon-file-text2'><use xlink:href='#icon-file-text2'></use></svg></label><input id='data-4b4290f6-8a91-48d6-a238-14fd6d42fb2e' class='xr-var-data-in' type='checkbox'><label for='data-4b4290f6-8a91-48d6-a238-14fd6d42fb2e' title='Show/Hide data repr'><svg class='icon xr-icon-database'><use xlink:href='#icon-database'></use></svg></label><div class='xr-var-attrs'><dl class='xr-attrs'></dl></div><div class='xr-var-data'><pre>array([[&#x27;B0&#x27;, &#x27;B1&#x27;, &#x27;B2&#x27;, &#x27;B3&#x27;, nan, nan, nan, nan, nan, nan, nan, nan],\n",
              "       [nan, nan, nan, nan, &#x27;B4&#x27;, &#x27;B5&#x27;, &#x27;B6&#x27;, &#x27;B7&#x27;, nan, nan, nan, nan],\n",
              "       [nan, nan, nan, nan, nan, nan, nan, nan, &#x27;B8&#x27;, &#x27;B9&#x27;, &#x27;B10&#x27;, &#x27;B11&#x27;]],\n",
              "      dtype=object)</pre></div></li><li class='xr-var-item'><div class='xr-var-name'><span>C</span></div><div class='xr-var-dims'>(level_0, level_1)</div><div class='xr-var-dtype'>object</div><div class='xr-var-preview xr-preview'>&#x27;C0&#x27; &#x27;C1&#x27; &#x27;C2&#x27; ... &#x27;C9&#x27; &#x27;C10&#x27; &#x27;C11&#x27;</div><input id='attrs-ab2e7d29-0e1a-4ee0-916f-001142b4ed25' class='xr-var-attrs-in' type='checkbox' disabled><label for='attrs-ab2e7d29-0e1a-4ee0-916f-001142b4ed25' title='Show/Hide attributes'><svg class='icon xr-icon-file-text2'><use xlink:href='#icon-file-text2'></use></svg></label><input id='data-e50e11cb-0020-44a3-87f1-789cf2260444' class='xr-var-data-in' type='checkbox'><label for='data-e50e11cb-0020-44a3-87f1-789cf2260444' title='Show/Hide data repr'><svg class='icon xr-icon-database'><use xlink:href='#icon-database'></use></svg></label><div class='xr-var-attrs'><dl class='xr-attrs'></dl></div><div class='xr-var-data'><pre>array([[&#x27;C0&#x27;, &#x27;C1&#x27;, &#x27;C2&#x27;, &#x27;C3&#x27;, nan, nan, nan, nan, nan, nan, nan, nan],\n",
              "       [nan, nan, nan, nan, &#x27;C4&#x27;, &#x27;C5&#x27;, &#x27;C6&#x27;, &#x27;C7&#x27;, nan, nan, nan, nan],\n",
              "       [nan, nan, nan, nan, nan, nan, nan, nan, &#x27;C8&#x27;, &#x27;C9&#x27;, &#x27;C10&#x27;, &#x27;C11&#x27;]],\n",
              "      dtype=object)</pre></div></li><li class='xr-var-item'><div class='xr-var-name'><span>D</span></div><div class='xr-var-dims'>(level_0, level_1)</div><div class='xr-var-dtype'>object</div><div class='xr-var-preview xr-preview'>&#x27;D0&#x27; &#x27;D1&#x27; &#x27;D2&#x27; ... &#x27;D9&#x27; &#x27;D10&#x27; &#x27;D11&#x27;</div><input id='attrs-8b5a4405-173b-4fbd-b950-cb0c442b529a' class='xr-var-attrs-in' type='checkbox' disabled><label for='attrs-8b5a4405-173b-4fbd-b950-cb0c442b529a' title='Show/Hide attributes'><svg class='icon xr-icon-file-text2'><use xlink:href='#icon-file-text2'></use></svg></label><input id='data-d89f4a81-d70f-473f-87f4-9a70ef56faef' class='xr-var-data-in' type='checkbox'><label for='data-d89f4a81-d70f-473f-87f4-9a70ef56faef' title='Show/Hide data repr'><svg class='icon xr-icon-database'><use xlink:href='#icon-database'></use></svg></label><div class='xr-var-attrs'><dl class='xr-attrs'></dl></div><div class='xr-var-data'><pre>array([[&#x27;D0&#x27;, &#x27;D1&#x27;, &#x27;D2&#x27;, &#x27;D3&#x27;, nan, nan, nan, nan, nan, nan, nan, nan],\n",
              "       [nan, nan, nan, nan, &#x27;D4&#x27;, &#x27;D5&#x27;, &#x27;D6&#x27;, &#x27;D7&#x27;, nan, nan, nan, nan],\n",
              "       [nan, nan, nan, nan, nan, nan, nan, nan, &#x27;D8&#x27;, &#x27;D9&#x27;, &#x27;D10&#x27;, &#x27;D11&#x27;]],\n",
              "      dtype=object)</pre></div></li></ul></div></li><li class='xr-section-item'><input id='section-0eb55d8c-bb78-4068-ae32-66dcaf0531cf' class='xr-section-summary-in' type='checkbox' disabled ><label for='section-0eb55d8c-bb78-4068-ae32-66dcaf0531cf' class='xr-section-summary'  title='Expand/collapse section'>Attributes: <span>(0)</span></label><div class='xr-section-inline-details'></div><div class='xr-section-details'><dl class='xr-attrs'></dl></div></li></ul></div></div>"
            ],
            "text/plain": [
              "<xarray.Dataset>\n",
              "Dimensions:  (level_0: 3, level_1: 12)\n",
              "Coordinates:\n",
              "  * level_0  (level_0) object 'x' 'y' 'z'\n",
              "  * level_1  (level_1) int64 0 1 2 3 4 5 6 7 8 9 10 11\n",
              "Data variables:\n",
              "    A        (level_0, level_1) object 'A0' 'A1' 'A2' 'A3' ... 'A9' 'A10' 'A11'\n",
              "    B        (level_0, level_1) object 'B0' 'B1' 'B2' 'B3' ... 'B9' 'B10' 'B11'\n",
              "    C        (level_0, level_1) object 'C0' 'C1' 'C2' 'C3' ... 'C9' 'C10' 'C11'\n",
              "    D        (level_0, level_1) object 'D0' 'D1' 'D2' 'D3' ... 'D9' 'D10' 'D11'"
            ]
          },
          "execution_count": 23,
          "metadata": {},
          "output_type": "execute_result"
        }
      ],
      "source": [
        "result.to_xarray()"
      ]
    },
    {
      "cell_type": "code",
      "execution_count": 24,
      "metadata": {
        "colab": {
          "base_uri": "https://localhost:8080/",
          "height": 422
        },
        "id": "f4CZYHg1xK8c",
        "outputId": "ef870306-4764-47c0-d4e8-1163e7ef9f22"
      },
      "outputs": [
        {
          "data": {
            "text/html": [
              "<div>\n",
              "<style scoped>\n",
              "    .dataframe tbody tr th:only-of-type {\n",
              "        vertical-align: middle;\n",
              "    }\n",
              "\n",
              "    .dataframe tbody tr th {\n",
              "        vertical-align: top;\n",
              "    }\n",
              "\n",
              "    .dataframe thead th {\n",
              "        text-align: right;\n",
              "    }\n",
              "</style>\n",
              "<table border=\"1\" class=\"dataframe\">\n",
              "  <thead>\n",
              "    <tr style=\"text-align: right;\">\n",
              "      <th></th>\n",
              "      <th></th>\n",
              "      <th>A</th>\n",
              "      <th>B</th>\n",
              "      <th>C</th>\n",
              "      <th>D</th>\n",
              "    </tr>\n",
              "  </thead>\n",
              "  <tbody>\n",
              "    <tr>\n",
              "      <th rowspan=\"4\" valign=\"top\">x</th>\n",
              "      <th>0</th>\n",
              "      <td>A0</td>\n",
              "      <td>B0</td>\n",
              "      <td>C0</td>\n",
              "      <td>D0</td>\n",
              "    </tr>\n",
              "    <tr>\n",
              "      <th>1</th>\n",
              "      <td>A1</td>\n",
              "      <td>B1</td>\n",
              "      <td>C1</td>\n",
              "      <td>D1</td>\n",
              "    </tr>\n",
              "    <tr>\n",
              "      <th>2</th>\n",
              "      <td>A2</td>\n",
              "      <td>B2</td>\n",
              "      <td>C2</td>\n",
              "      <td>D2</td>\n",
              "    </tr>\n",
              "    <tr>\n",
              "      <th>3</th>\n",
              "      <td>A3</td>\n",
              "      <td>B3</td>\n",
              "      <td>C3</td>\n",
              "      <td>D3</td>\n",
              "    </tr>\n",
              "    <tr>\n",
              "      <th rowspan=\"4\" valign=\"top\">y</th>\n",
              "      <th>4</th>\n",
              "      <td>A4</td>\n",
              "      <td>B4</td>\n",
              "      <td>C4</td>\n",
              "      <td>D4</td>\n",
              "    </tr>\n",
              "    <tr>\n",
              "      <th>5</th>\n",
              "      <td>A5</td>\n",
              "      <td>B5</td>\n",
              "      <td>C5</td>\n",
              "      <td>D5</td>\n",
              "    </tr>\n",
              "    <tr>\n",
              "      <th>6</th>\n",
              "      <td>A6</td>\n",
              "      <td>B6</td>\n",
              "      <td>C6</td>\n",
              "      <td>D6</td>\n",
              "    </tr>\n",
              "    <tr>\n",
              "      <th>7</th>\n",
              "      <td>A7</td>\n",
              "      <td>B7</td>\n",
              "      <td>C7</td>\n",
              "      <td>D7</td>\n",
              "    </tr>\n",
              "    <tr>\n",
              "      <th rowspan=\"4\" valign=\"top\">z</th>\n",
              "      <th>8</th>\n",
              "      <td>A8</td>\n",
              "      <td>B8</td>\n",
              "      <td>C8</td>\n",
              "      <td>D8</td>\n",
              "    </tr>\n",
              "    <tr>\n",
              "      <th>9</th>\n",
              "      <td>A9</td>\n",
              "      <td>B9</td>\n",
              "      <td>C9</td>\n",
              "      <td>D9</td>\n",
              "    </tr>\n",
              "    <tr>\n",
              "      <th>10</th>\n",
              "      <td>A10</td>\n",
              "      <td>B10</td>\n",
              "      <td>C10</td>\n",
              "      <td>D10</td>\n",
              "    </tr>\n",
              "    <tr>\n",
              "      <th>11</th>\n",
              "      <td>A11</td>\n",
              "      <td>B11</td>\n",
              "      <td>C11</td>\n",
              "      <td>D11</td>\n",
              "    </tr>\n",
              "  </tbody>\n",
              "</table>\n",
              "</div>"
            ],
            "text/plain": [
              "        A    B    C    D\n",
              "x 0    A0   B0   C0   D0\n",
              "  1    A1   B1   C1   D1\n",
              "  2    A2   B2   C2   D2\n",
              "  3    A3   B3   C3   D3\n",
              "y 4    A4   B4   C4   D4\n",
              "  5    A5   B5   C5   D5\n",
              "  6    A6   B6   C6   D6\n",
              "  7    A7   B7   C7   D7\n",
              "z 8    A8   B8   C8   D8\n",
              "  9    A9   B9   C9   D9\n",
              "  10  A10  B10  C10  D10\n",
              "  11  A11  B11  C11  D11"
            ]
          },
          "execution_count": 24,
          "metadata": {},
          "output_type": "execute_result"
        }
      ],
      "source": [
        "result"
      ]
    },
    {
      "cell_type": "code",
      "execution_count": null,
      "metadata": {
        "id": "B10nDXSBxTuL"
      },
      "outputs": [],
      "source": []
    }
  ],
  "metadata": {
    "colab": {
      "name": "Open_in_Colab.ipynb",
      "provenance": []
    },
    "interpreter": {
      "hash": "2db524e06e9f5f4ffedc911c917cb75e12dbc923643829bf417064a77eb14d37"
    },
    "kernelspec": {
      "display_name": "Python 3.8.7 64-bit",
      "name": "python3"
    },
    "language_info": {
      "name": "python",
      "version": ""
    },
    "orig_nbformat": 4
  },
  "nbformat": 4,
  "nbformat_minor": 0
}