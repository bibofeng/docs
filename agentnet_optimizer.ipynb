{
  "nbformat": 4,
  "nbformat_minor": 0,
  "metadata": {
    "colab": {
      "name": "Open_in_Colab.ipynb",
      "provenance": []
    },
    "interpreter": {
      "hash": "2db524e06e9f5f4ffedc911c917cb75e12dbc923643829bf417064a77eb14d37"
    },
    "kernelspec": {
      "display_name": "Python 3.8.7 64-bit",
      "name": "python3"
    },
    "language_info": {
      "name": "python",
      "version": ""
    },
    "orig_nbformat": 4,
    "accelerator": "GPU"
  },
  "cells": [
    {
      "cell_type": "markdown",
      "metadata": {
        "id": "TA1HJUZ1hh71"
      },
      "source": [
        "# Open notebook in Colab\n"
      ]
    },
    {
      "cell_type": "markdown",
      "metadata": {
        "id": "1uNwLKy4hh74"
      },
      "source": [
        ""
      ]
    },
    {
      "cell_type": "markdown",
      "metadata": {
        "id": "ZCdnMaMWhh75"
      },
      "source": [
        "<a href=\"https://colab.research.google.com/github/bibofeng/docs/blob/main/agentnet_optimizer.ipynb\" target=\"_parent\"><img src=\"https://colab.research.google.com/assets/colab-badge.svg\" alt=\"Open In Colab\"/></a>"
      ]
    },
    {
      "cell_type": "markdown",
      "metadata": {
        "id": "fWDOSuT2hh7_"
      },
      "source": [
        "## Upload Config Files From Local Server"
      ]
    },
    {
      "cell_type": "code",
      "metadata": {
        "id": "_33OdsORhh8A"
      },
      "source": [
        "from google.colab import files\n",
        "uploaded = files.upload()\n",
        "for fn in uploaded.keys():\n",
        "  print('User uploaded file \"{name}\" with length {length} bytes'.format(\n",
        "      name=fn, length=len(uploaded[fn])))"
      ],
      "execution_count": null,
      "outputs": []
    },
    {
      "cell_type": "markdown",
      "metadata": {
        "id": "gtZdoNyIhh75"
      },
      "source": [
        "# Colab Setup\n",
        "## colab shell setup\n"
      ]
    },
    {
      "cell_type": "code",
      "metadata": {
        "id": "ilRtOrwUhh76"
      },
      "source": [
        "# from IPython.display import JSON\n",
        "# from google.colab import output\n",
        "# from subprocess import getoutput\n",
        "# import os"
      ],
      "execution_count": null,
      "outputs": []
    },
    {
      "cell_type": "code",
      "metadata": {
        "id": "BStN17RVhh77"
      },
      "source": [
        "# run colab bash shell teminal window\n",
        "\n",
        "# def shell(command):\n",
        "#   if command.startswith('cd'):\n",
        "#     path = command.strip().split(maxsplit=1)[1]\n",
        "#     os.chdir(path)\n",
        "#     return JSON([''])\n",
        "#   return JSON([getoutput(command)])\n",
        "# output.register_callback('shell', shell)"
      ],
      "execution_count": null,
      "outputs": []
    },
    {
      "cell_type": "code",
      "metadata": {
        "id": "LysM_ryzhh78"
      },
      "source": [
        "#@title Colab Shell\n",
        "# %%html\n",
        "# <div id=term_demo></div>\n",
        "# <script src=\"https://code.jquery.com/jquery-latest.js\"></script>\n",
        "# <script src=\"https://cdn.jsdelivr.net/npm/jquery.terminal/js/jquery.terminal.min.js\"></script>\n",
        "# <link href=\"https://cdn.jsdelivr.net/npm/jquery.terminal/css/jquery.terminal.min.css\" rel=\"stylesheet\"/>\n",
        "# <script>\n",
        "#   $('#term_demo').terminal(async function(command) {\n",
        "#       if (command !== '') {\n",
        "#           try {\n",
        "#               let res = await google.colab.kernel.invokeFunction('shell', [command])\n",
        "#               let out = res.data['application/json'][0]\n",
        "#               this.echo(new String(out))\n",
        "#           } catch(e) {\n",
        "#               this.error(new String(e));\n",
        "#           }\n",
        "#       } else {\n",
        "#           this.echo('');\n",
        "#       }\n",
        "#   }, {\n",
        "#       greetings: 'Welcome to Colab Shell',\n",
        "#       name: 'colab_demo',\n",
        "#       height: 250,\n",
        "#       prompt: 'colab > '\n",
        "#   });"
      ],
      "execution_count": null,
      "outputs": []
    },
    {
      "cell_type": "markdown",
      "metadata": {
        "id": "-BGG0WjFhh79"
      },
      "source": [
        "#@title Colab Shell\n",
        "%%html\n",
        "<div id=term_demo></div>\n",
        "<script src=\"https://code.jquery.com/jquery-latest.js\"></script>\n",
        "<script src=\"https://cdn.jsdelivr.net/npm/jquery.terminal/js/jquery.terminal.min.js\"></script>\n",
        "<link href=\"https://cdn.jsdelivr.net/npm/jquery.terminal/css/jquery.terminal.min.css\" rel=\"stylesheet\"/>\n",
        "<script>\n",
        "  $('#term_demo').terminal(async function(command) {\n",
        "      if (command !== '') {\n",
        "          try {\n",
        "              let res = await google.colab.kernel.invokeFunction('shell', [command])\n",
        "              let out = res.data['application/json'][0]\n",
        "              this.echo(new String(out))\n",
        "          } catch(e) {\n",
        "              this.error(new String(e));\n",
        "          }\n",
        "      } else {\n",
        "          this.echo('');\n",
        "      }\n",
        "  }, {\n",
        "      greetings: 'Welcome to Colab Shell',\n",
        "      name: 'colab_demo',\n",
        "      height: 250,\n",
        "      prompt: 'colab > '\n",
        "  });"
      ]
    },
    {
      "cell_type": "code",
      "metadata": {
        "id": "vfd5rDqe-FqG"
      },
      "source": [
        ""
      ],
      "execution_count": null,
      "outputs": []
    },
    {
      "cell_type": "markdown",
      "metadata": {
        "id": "qUKx6dwPhh7-"
      },
      "source": [
        "## Mount Google Drive"
      ]
    },
    {
      "cell_type": "code",
      "metadata": {
        "id": "7uBeqNQKsjje"
      },
      "source": [
        "ls -l\n"
      ],
      "execution_count": null,
      "outputs": []
    },
    {
      "cell_type": "code",
      "metadata": {
        "id": "ZflAzC-Dhh7-"
      },
      "source": [
        "# mount google drive of GwsArk\n",
        "from google.colab import drive\n",
        "drive.mount('/content/gdrive')\n",
        "!cp /content/gdrive/MyDrive/DRL/config/* ./"
      ],
      "execution_count": null,
      "outputs": []
    },
    {
      "cell_type": "code",
      "metadata": {
        "id": "ep6THKkMhh7_"
      },
      "source": [
        "ls -l /content/gdrive/MyDrive/DRL\n"
      ],
      "execution_count": null,
      "outputs": []
    },
    {
      "cell_type": "code",
      "metadata": {
        "id": "t-Xqba50wrzN"
      },
      "source": [
        "\n",
        "\n"
      ],
      "execution_count": null,
      "outputs": []
    },
    {
      "cell_type": "code",
      "metadata": {
        "id": "q8aVfq7XzrpC"
      },
      "source": [
        ""
      ],
      "execution_count": null,
      "outputs": []
    },
    {
      "cell_type": "markdown",
      "metadata": {
        "id": "nwcZMEg6hh8A"
      },
      "source": [
        "## Import configurae credential file\n"
      ]
    },
    {
      "cell_type": "code",
      "metadata": {
        "id": "eZDt5CmTpjoK"
      },
      "source": [
        "ls -l  "
      ],
      "execution_count": null,
      "outputs": []
    },
    {
      "cell_type": "markdown",
      "metadata": {
        "id": "2_2jp38Ghh8A"
      },
      "source": [
        ""
      ]
    },
    {
      "cell_type": "code",
      "metadata": {
        "id": "OIJR7BKzhh8A"
      },
      "source": [
        "#import config credential of user name and password\n",
        "import config\n",
        "user = config.USER\n",
        "pw = config.PW\n",
        "url = config.URL\n",
        "#install bblib \n",
        "!pip install git+http://$user:$pw@$url"
      ],
      "execution_count": null,
      "outputs": []
    },
    {
      "cell_type": "markdown",
      "metadata": {
        "id": "HwNBQ_n4hh8B"
      },
      "source": [
        "## import talab package"
      ]
    },
    {
      "cell_type": "code",
      "metadata": {
        "id": "YdibziI_hh8B"
      },
      "source": [
        "url = 'https://anaconda.org/conda-forge/libta-lib/0.4.0/download/linux-64/libta-lib-0.4.0-h516909a_0.tar.bz2'\n",
        "!curl -L $url | tar xj -C /usr/lib/x86_64-linux-gnu/ lib --strip-components=1\n",
        "url = 'https://anaconda.org/conda-forge/ta-lib/0.4.19/download/linux-64/ta-lib-0.4.19-py37ha21ca33_2.tar.bz2'\n",
        "!curl -L $url | tar xj -C /usr/local/lib/python3.7/dist-packages/ lib/python3.7/site-packages/talib --strip-components=3\n",
        "import talib"
      ],
      "execution_count": null,
      "outputs": []
    },
    {
      "cell_type": "markdown",
      "metadata": {
        "id": "q2UiXkxQoVAE"
      },
      "source": [
        "## install pyodbc package\n"
      ]
    },
    {
      "cell_type": "code",
      "metadata": {
        "id": "_7EM8c5xrNrQ"
      },
      "source": [
        "!curl https://packages.microsoft.com/keys/microsoft.asc | apt-key add -\n",
        "!curl https://packages.microsoft.com/config/ubuntu/16.04/prod.list > /etc/apt/sources.list.d/mssql-release.list\n",
        "!sudo apt-get update\n",
        "!sudo ACCEPT_EULA=Y apt-get -q -y install msodbcsql17"
      ],
      "execution_count": null,
      "outputs": []
    },
    {
      "cell_type": "code",
      "metadata": {
        "id": "BDvnWbZ-nfrb"
      },
      "source": [
        "#install pyodbc \n",
        "!sudo apt-get install unixodbc-dev\n",
        "!pip install pyodbc\n",
        "!pip install chart_studio"
      ],
      "execution_count": null,
      "outputs": []
    },
    {
      "cell_type": "code",
      "metadata": {
        "id": "DbA2_GwhrTYX"
      },
      "source": [
        "##  !pip uninstall pyodbc "
      ],
      "execution_count": null,
      "outputs": []
    },
    {
      "cell_type": "code",
      "metadata": {
        "id": "xlrqib58nwCc"
      },
      "source": [
        "\n",
        "!odbcinst -j"
      ],
      "execution_count": null,
      "outputs": []
    },
    {
      "cell_type": "code",
      "metadata": {
        "id": "pTZ0FrDhn3qT"
      },
      "source": [
        "!cat /etc/odbcinst.ini"
      ],
      "execution_count": null,
      "outputs": []
    },
    {
      "cell_type": "markdown",
      "metadata": {
        "id": "3zV6N3Wdhh8B"
      },
      "source": [
        "# Setup tensorboard on Notebook"
      ]
    },
    {
      "cell_type": "markdown",
      "metadata": {
        "id": "LhqOzx4ghh8B"
      },
      "source": [
        ""
      ]
    },
    {
      "cell_type": "markdown",
      "metadata": {
        "id": "CpcYTKaXz_1o"
      },
      "source": [
        "## Setup tensorboard\n"
      ]
    },
    {
      "cell_type": "code",
      "metadata": {
        "id": "ZIrQCgsuhh8B"
      },
      "source": [
        "# Load the TensorBoard notebook extension\n",
        "%load_ext tensorboard"
      ],
      "execution_count": null,
      "outputs": []
    },
    {
      "cell_type": "code",
      "metadata": {
        "id": "tucHo_cthh8C"
      },
      "source": [
        "#Open tensorboard in notebook: \n",
        "import os\n",
        "if os.path.isdir('/content/gdrive'):\n",
        "  %tensorboard --logdir '/content/gdrive/MyDrive/DRL/logdir'\n",
        "else:\n",
        "  %tensorboard --logdir '/content/logdir'\n",
        "\n",
        " "
      ],
      "execution_count": null,
      "outputs": []
    },
    {
      "cell_type": "code",
      "metadata": {
        "id": "trh6Legzx7cD"
      },
      "source": [
        "tensorboard --logdir /content/gdrive/MyDrive/DRL/logdir"
      ],
      "execution_count": null,
      "outputs": []
    },
    {
      "cell_type": "markdown",
      "metadata": {
        "id": "EcUxAuHF0ICg"
      },
      "source": [
        "#Run Optimizer"
      ]
    },
    {
      "cell_type": "markdown",
      "metadata": {
        "id": "aUc5ij2T0KCX"
      },
      "source": [
        "#Train DRL PPO AgentNet "
      ]
    },
    {
      "cell_type": "markdown",
      "metadata": {
        "id": "GRdV02RqJ4jK"
      },
      "source": [
        "#Evaluate ANT ppo\n"
      ]
    },
    {
      "cell_type": "code",
      "metadata": {
        "id": "gt9pFfLOJ_iZ"
      },
      "source": [
        "!python  /usr/local/lib/python3.7/dist-packages/agentnet_optimizer.py   --opt_id 46 --strategy eval_ppo   --doc_id '180,177, 236,225,266,239'"
      ],
      "execution_count": null,
      "outputs": []
    },
    {
      "cell_type": "markdown",
      "metadata": {
        "id": "t9xCbCkdxUn5"
      },
      "source": [
        "## Continue train ANT ppo "
      ]
    },
    {
      "cell_type": "code",
      "metadata": {
        "id": "BwfSGPj3xcNZ"
      },
      "source": [
        "!python  /usr/local/lib/python3.7/dist-packages/agentnet_optimizer.py   --opt_id 46 --strategy train_ppo --run_mod continue --doc_id 240 --save2db"
      ],
      "execution_count": null,
      "outputs": []
    },
    {
      "cell_type": "markdown",
      "metadata": {
        "id": "cn_t9u_djtSt"
      },
      "source": [
        "### Using vwap to normalize data\n"
      ]
    },
    {
      "cell_type": "code",
      "metadata": {
        "id": "KKZIuYZds-Pw"
      },
      "source": [
        "# using vwap  to normalize data  \n",
        "!python  /usr/local/lib/python3.7/dist-packages/agentnet_optimizer.py   --opt_id 46 --strategy train_ppo --save2db"
      ],
      "execution_count": null,
      "outputs": []
    },
    {
      "cell_type": "code",
      "metadata": {
        "id": "tD32NIoPwsl2"
      },
      "source": [
        "## run agent in local \n",
        "!python agentnet_optimizer.py   --opt_id 46 --strategy train_ppo --save2db"
      ],
      "execution_count": null,
      "outputs": []
    },
    {
      "cell_type": "markdown",
      "metadata": {
        "id": "QQuYX11kj0eX"
      },
      "source": [
        "\n",
        "### Run original setting\n"
      ]
    },
    {
      "cell_type": "code",
      "metadata": {
        "id": "JRH1q0kX0Uyg"
      },
      "source": [
        "# original \n",
        "!python  /usr/local/lib/python3.7/dist-packages/agentnet_optimizer.py --opt_id 8 --strategy train_ppo --save2db"
      ],
      "execution_count": null,
      "outputs": []
    },
    {
      "cell_type": "markdown",
      "metadata": {
        "id": "1kh6aPXZ-o2m"
      },
      "source": [
        "# Train DRLHON A3C data "
      ]
    },
    {
      "cell_type": "markdown",
      "metadata": {
        "id": "v4pTHjgx-xRw"
      },
      "source": [
        "## install Pong bin for Gym Pong"
      ]
    },
    {
      "cell_type": "code",
      "metadata": {
        "id": "BPtIUDkaCm6y"
      },
      "source": [
        "from bblib.common.optimizer_parameter import  Optimizer\n",
        "Optimizer.retrieve_document_by_ids(doc_ids=\"55,56\",fdir='/content/roms')\n",
        "!python -m atari_py.import_roms /content/roms/\n"
      ],
      "execution_count": null,
      "outputs": []
    },
    {
      "cell_type": "code",
      "metadata": {
        "id": "OeKjlXsPDrjQ"
      },
      "source": [
        "ls -l /content/roms/\n"
      ],
      "execution_count": null,
      "outputs": []
    },
    {
      "cell_type": "markdown",
      "metadata": {
        "id": "0evSXnGC_87V"
      },
      "source": [
        "## Train Pong with A3C_Grad"
      ]
    },
    {
      "cell_type": "code",
      "metadata": {
        "id": "TLme378o_546"
      },
      "source": [
        "!python  /usr/local/lib/python3.7/dist-packages/agentnet_optimizer.py --opt_id 20 --strategy a3c_grad_train "
      ],
      "execution_count": null,
      "outputs": []
    },
    {
      "cell_type": "markdown",
      "metadata": {
        "id": "JE8FsfitAFmF"
      },
      "source": [
        "Train Pong with A3C_Data"
      ]
    },
    {
      "cell_type": "code",
      "metadata": {
        "id": "ObSFm1gn-x62"
      },
      "source": [
        "!python  /usr/local/lib/python3.7/dist-packages/agentnet_optimizer.py --opt_id 20 --strategy a3c_train "
      ],
      "execution_count": null,
      "outputs": []
    },
    {
      "cell_type": "markdown",
      "metadata": {
        "id": "Uoa1BS3X-zda"
      },
      "source": [
        "## Train DRLHON stock squenece Net"
      ]
    },
    {
      "cell_type": "code",
      "metadata": {
        "id": "bPl9t7j7-fKQ"
      },
      "source": [
        "!python  /usr/local/lib/python3.7/dist-packages/agentnet_optimizer.py --opt_id 18 --strategy train --save2db"
      ],
      "execution_count": null,
      "outputs": []
    },
    {
      "cell_type": "markdown",
      "metadata": {
        "id": "ncixdp9Lq1eQ"
      },
      "source": [
        "## Upload updated Optimizer\n",
        "\n"
      ]
    },
    {
      "cell_type": "code",
      "metadata": {
        "id": "RzQvbG90-d6a"
      },
      "source": [
        ""
      ],
      "execution_count": null,
      "outputs": []
    },
    {
      "cell_type": "code",
      "metadata": {
        "id": "Xbb5eRZtiJu8"
      },
      "source": [
        "!python  /usr/local/lib/python3.7/dist-packages/agentnet_optimizer.py --opt_id 6 --strategy test"
      ],
      "execution_count": null,
      "outputs": []
    },
    {
      "cell_type": "code",
      "metadata": {
        "id": "i08q9vyMfyX6"
      },
      "source": [
        "from google.colab import files\n",
        "uploaded = files.upload()\n",
        "for fn in uploaded.keys():\n",
        "  print('User uploaded file \"{name}\" with length {length} bytes'.format(\n",
        "      name=fn, length=len(uploaded[fn])))"
      ],
      "execution_count": null,
      "outputs": []
    },
    {
      "cell_type": "code",
      "metadata": {
        "id": "Pc9N5TRbr3Kh"
      },
      "source": [
        "!ls -l /content/\n"
      ],
      "execution_count": null,
      "outputs": []
    },
    {
      "cell_type": "markdown",
      "metadata": {
        "id": "ibDFBr1kra7g"
      },
      "source": [
        "# Run updated Optimizer\n"
      ]
    },
    {
      "cell_type": "markdown",
      "metadata": {
        "id": "KCfCp7ia7T4D"
      },
      "source": [
        "## DRL DQN Pong train\n"
      ]
    },
    {
      "cell_type": "code",
      "metadata": {
        "id": "k7Hx4kXa60yt"
      },
      "source": [
        "!python  /content/agentnet_optimizer.py --opt_id 16 --strategy train"
      ],
      "execution_count": null,
      "outputs": []
    },
    {
      "cell_type": "markdown",
      "metadata": {
        "id": "TFmP_8Qk7E48"
      },
      "source": [
        "## Train eRL PPO"
      ]
    },
    {
      "cell_type": "code",
      "metadata": {
        "id": "ut_i7fLRrPVO"
      },
      "source": [
        "!python  /content/agentnet_optimizer.py --opt_id 6 --strategy test"
      ],
      "execution_count": null,
      "outputs": []
    },
    {
      "cell_type": "markdown",
      "metadata": {
        "id": "egqu_VtZMWBw"
      },
      "source": [
        "## eRL Train"
      ]
    },
    {
      "cell_type": "code",
      "metadata": {
        "id": "pEMqPJgUMETQ"
      },
      "source": [
        "!python  /usr/local/lib/python3.7/dist-packages/agentnet_optimizer.py --opt_id 6 --strategy train"
      ],
      "execution_count": null,
      "outputs": []
    },
    {
      "cell_type": "markdown",
      "metadata": {
        "id": "Vl3O13oz0QWY"
      },
      "source": [
        "## Train Bipedalwork opt_id = 24"
      ]
    },
    {
      "cell_type": "code",
      "metadata": {
        "id": "_XHvpEL1rGiT"
      },
      "source": [
        "!pip install matplotlib==2.2.5"
      ],
      "execution_count": null,
      "outputs": []
    },
    {
      "cell_type": "code",
      "metadata": {
        "id": "mSryeTA6oyAU"
      },
      "source": [
        "!python  /usr/local/lib/python3.7/dist-packages/agentnet_optimizer.py --opt_id 24 --strategy train"
      ],
      "execution_count": null,
      "outputs": []
    },
    {
      "cell_type": "markdown",
      "metadata": {
        "id": "YV5eR_nBhh8C"
      },
      "source": [
        "## Train DRLHON mode\n"
      ]
    },
    {
      "cell_type": "code",
      "metadata": {
        "id": "1WUw9ZKBhh8C"
      },
      "source": [
        "!python  /usr/local/lib/python3.7/dist-packages/DRLON/train_drlon_model.py --cuda gpu --data YNDX_160101_161231.csv --valdata YNDX_150101_151231.csv -r test_state_1d\n"
      ],
      "execution_count": null,
      "outputs": []
    },
    {
      "cell_type": "code",
      "metadata": {
        "id": "83bnTG5Uhk6W"
      },
      "source": [
        "import numpy as np\n",
        "import pandas as pd\n"
      ],
      "execution_count": null,
      "outputs": []
    },
    {
      "cell_type": "code",
      "metadata": {
        "id": "hmODpEn81qXp"
      },
      "source": [
        ""
      ],
      "execution_count": null,
      "outputs": []
    }
  ]
}