{
  "nbformat": 4,
  "nbformat_minor": 2,
  "metadata": {
    "orig_nbformat": 4,
    "colab": {
      "name": "Open_in_Colab.ipynb",
      "provenance": []
    },
    "language_info": {
      "name": "python"
    },
    "kernelspec": {
      "name": "python3",
      "display_name": "Python 3"
    }
  },
  "cells": [
    {
      "cell_type": "markdown",
      "source": [
        "# Open notebook in Colab\n"
      ],
      "metadata": {
        "id": "TA1HJUZ1hh71"
      }
    },
    {
      "cell_type": "markdown",
      "source": [],
      "metadata": {
        "id": "1uNwLKy4hh74"
      }
    },
    {
      "cell_type": "markdown",
      "source": [
        "<a href=\"https://colab.research.google.com/github/bibofeng/docs/blob/main/Test_Code_in_Colab.ipynb\" target=\"_parent\"><img src=\"https://colab.research.google.com/assets/colab-badge.svg\" alt=\"Open In Colab\"/></a>"
      ],
      "metadata": {
        "id": "ZCdnMaMWhh75"
      }
    },
    {
      "cell_type": "markdown",
      "source": [
        "# Colab Setup\n",
        "## colab shell setup\n"
      ],
      "metadata": {
        "id": "gtZdoNyIhh75"
      }
    },
    {
      "cell_type": "code",
      "execution_count": null,
      "source": [
        "from IPython.display import JSON\r\n",
        "from google.colab import output\r\n",
        "from subprocess import getoutput\r\n",
        "import os"
      ],
      "outputs": [],
      "metadata": {
        "id": "ilRtOrwUhh76"
      }
    },
    {
      "cell_type": "code",
      "execution_count": null,
      "source": [
        "# run colab bash shell teminal window\r\n",
        "\r\n",
        "def shell(command):\r\n",
        "  if command.startswith('cd'):\r\n",
        "    path = command.strip().split(maxsplit=1)[1]\r\n",
        "    os.chdir(path)\r\n",
        "    return JSON([''])\r\n",
        "  return JSON([getoutput(command)])\r\n",
        "output.register_callback('shell', shell)"
      ],
      "outputs": [],
      "metadata": {
        "id": "BStN17RVhh77"
      }
    },
    {
      "cell_type": "code",
      "execution_count": null,
      "source": [
        "#@title Colab Shell\r\n",
        "%%html\r\n",
        "<div id=term_demo></div>\r\n",
        "<script src=\"https://code.jquery.com/jquery-latest.js\"></script>\r\n",
        "<script src=\"https://cdn.jsdelivr.net/npm/jquery.terminal/js/jquery.terminal.min.js\"></script>\r\n",
        "<link href=\"https://cdn.jsdelivr.net/npm/jquery.terminal/css/jquery.terminal.min.css\" rel=\"stylesheet\"/>\r\n",
        "<script>\r\n",
        "  $('#term_demo').terminal(async function(command) {\r\n",
        "      if (command !== '') {\r\n",
        "          try {\r\n",
        "              let res = await google.colab.kernel.invokeFunction('shell', [command])\r\n",
        "              let out = res.data['application/json'][0]\r\n",
        "              this.echo(new String(out))\r\n",
        "          } catch(e) {\r\n",
        "              this.error(new String(e));\r\n",
        "          }\r\n",
        "      } else {\r\n",
        "          this.echo('');\r\n",
        "      }\r\n",
        "  }, {\r\n",
        "      greetings: 'Welcome to Colab Shell',\r\n",
        "      name: 'colab_demo',\r\n",
        "      height: 250,\r\n",
        "      prompt: 'colab > '\r\n",
        "  });"
      ],
      "outputs": [],
      "metadata": {
        "id": "LysM_ryzhh78"
      }
    },
    {
      "cell_type": "markdown",
      "source": [
        "#@title Colab Shell\n",
        "%%html\n",
        "<div id=term_demo></div>\n",
        "<script src=\"https://code.jquery.com/jquery-latest.js\"></script>\n",
        "<script src=\"https://cdn.jsdelivr.net/npm/jquery.terminal/js/jquery.terminal.min.js\"></script>\n",
        "<link href=\"https://cdn.jsdelivr.net/npm/jquery.terminal/css/jquery.terminal.min.css\" rel=\"stylesheet\"/>\n",
        "<script>\n",
        "  $('#term_demo').terminal(async function(command) {\n",
        "      if (command !== '') {\n",
        "          try {\n",
        "              let res = await google.colab.kernel.invokeFunction('shell', [command])\n",
        "              let out = res.data['application/json'][0]\n",
        "              this.echo(new String(out))\n",
        "          } catch(e) {\n",
        "              this.error(new String(e));\n",
        "          }\n",
        "      } else {\n",
        "          this.echo('');\n",
        "      }\n",
        "  }, {\n",
        "      greetings: 'Welcome to Colab Shell',\n",
        "      name: 'colab_demo',\n",
        "      height: 250,\n",
        "      prompt: 'colab > '\n",
        "  });"
      ],
      "metadata": {
        "id": "-BGG0WjFhh79"
      }
    },
    {
      "cell_type": "markdown",
      "source": [
        "## Mount Google Drive"
      ],
      "metadata": {
        "id": "qUKx6dwPhh7-"
      }
    },
    {
      "cell_type": "code",
      "execution_count": null,
      "source": [
        "#mount google drive of GwsArk\n",
        "# from google.colab import drive\n",
        "# drive.mount('/content/gdrive')\n",
        "# cp /content/gdrive/MyDrive/config/* ./"
      ],
      "outputs": [],
      "metadata": {
        "id": "ZflAzC-Dhh7-"
      }
    },
    {
      "cell_type": "code",
      "execution_count": null,
      "source": [],
      "outputs": [],
      "metadata": {
        "id": "ep6THKkMhh7_"
      }
    },
    {
      "cell_type": "markdown",
      "source": [
        "## Upload Config Files From Local Server"
      ],
      "metadata": {
        "id": "fWDOSuT2hh7_"
      }
    },
    {
      "cell_type": "code",
      "execution_count": null,
      "source": [
        "from google.colab import files\n",
        "uploaded = files.upload()\n",
        "for fn in uploaded.keys():\n",
        "  print('User uploaded file \"{name}\" with length {length} bytes'.format(\n",
        "      name=fn, length=len(uploaded[fn])))"
      ],
      "outputs": [],
      "metadata": {
        "id": "_33OdsORhh8A"
      }
    },
    {
      "cell_type": "markdown",
      "source": [
        "## Import configurae credential file\n"
      ],
      "metadata": {
        "id": "nwcZMEg6hh8A"
      }
    },
    {
      "cell_type": "markdown",
      "source": [],
      "metadata": {
        "id": "2_2jp38Ghh8A"
      }
    },
    {
      "cell_type": "code",
      "execution_count": null,
      "source": [
        "#import config credential of user name and password\n",
        "import config\n",
        "user = config.USER\n",
        "pw = config.PW\n",
        "url = config.URL\n",
        "#install bblib \n",
        "!pip install git+http://$user:$pw@$url"
      ],
      "outputs": [],
      "metadata": {
        "id": "OIJR7BKzhh8A"
      }
    },
    {
      "cell_type": "markdown",
      "source": [
        "## import talab package"
      ],
      "metadata": {
        "id": "HwNBQ_n4hh8B"
      }
    },
    {
      "cell_type": "code",
      "execution_count": null,
      "source": [
        "url = 'https://anaconda.org/conda-forge/libta-lib/0.4.0/download/linux-64/libta-lib-0.4.0-h516909a_0.tar.bz2'\n",
        "!curl -L $url | tar xj -C /usr/lib/x86_64-linux-gnu/ lib --strip-components=1\n",
        "url = 'https://anaconda.org/conda-forge/ta-lib/0.4.19/download/linux-64/ta-lib-0.4.19-py37ha21ca33_2.tar.bz2'\n",
        "!curl -L $url | tar xj -C /usr/local/lib/python3.7/dist-packages/ lib/python3.7/site-packages/talib --strip-components=3\n",
        "import talib"
      ],
      "outputs": [],
      "metadata": {
        "id": "YdibziI_hh8B"
      }
    },
    {
      "cell_type": "markdown",
      "source": [
        "# Setup tensorboard on Notebook"
      ],
      "metadata": {
        "id": "3zV6N3Wdhh8B"
      }
    },
    {
      "cell_type": "markdown",
      "source": [],
      "metadata": {
        "id": "LhqOzx4ghh8B"
      }
    },
    {
      "cell_type": "code",
      "execution_count": null,
      "source": [
        "# Load the TensorBoard notebook extension\n",
        "%load_ext tensorboard"
      ],
      "outputs": [],
      "metadata": {
        "id": "ZIrQCgsuhh8B"
      }
    },
    {
      "cell_type": "code",
      "execution_count": null,
      "source": [
        "#Open tensorboard in notebook: \n",
        "%tensorboard --logdir /content/gdrive/MyDrive/logs/test_state_1d/"
      ],
      "outputs": [],
      "metadata": {
        "id": "tucHo_cthh8C"
      }
    },
    {
      "cell_type": "markdown",
      "source": [
        "## Run python scripts \n"
      ],
      "metadata": {
        "id": "YV5eR_nBhh8C"
      }
    },
    {
      "cell_type": "code",
      "execution_count": null,
      "source": [
        "!python  /usr/local/lib/python3.7/dist-packages/DRLON/train_drlon_model.py --cuda gpu --data YNDX_160101_161231.csv --valdata YNDX_150101_151231.csv -r test_state_1d\n"
      ],
      "outputs": [],
      "metadata": {
        "id": "1WUw9ZKBhh8C"
      }
    },
    {
      "cell_type": "code",
      "execution_count": 1,
      "source": [
        "import numpy as np"
      ],
      "outputs": [],
      "metadata": {
        "id": "83bnTG5Uhk6W"
      }
    },
    {
      "cell_type": "code",
      "execution_count": 6,
      "source": [
        "np.zeros((2,3))"
      ],
      "outputs": [
        {
          "output_type": "execute_result",
          "data": {
            "text/plain": [
              "array([[0., 0., 0.],\n",
              "       [0., 0., 0.]])"
            ]
          },
          "metadata": {},
          "execution_count": 6
        }
      ],
      "metadata": {
        "id": "iiz3YhLVhn0r",
        "outputId": "d73e1f64-88c4-4ac8-9fdc-84631c43dfe1",
        "colab": {
          "base_uri": "https://localhost:8080/"
        }
      }
    },
    {
      "cell_type": "code",
      "execution_count": null,
      "source": [],
      "outputs": [],
      "metadata": {
        "id": "WmEBgoUFhuPV"
      }
    }
  ]
}