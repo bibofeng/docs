{
 "cells": [
  {
   "cell_type": "markdown",
   "source": [
    "# Open notebook in Colab\r\n"
   ],
   "metadata": {}
  },
  {
   "cell_type": "markdown",
   "source": [],
   "metadata": {}
  },
  {
   "cell_type": "markdown",
   "source": [
    "<a href=\"https://colab.research.google.com/github/bibofeng/docs/blob/main/PGPortfolio_in_Colab.ipynb\" target=\"_parent\"><img src=\"https://colab.research.google.com/assets/colab-badge.svg\" alt=\"Open In Colab\"/></a>"
   ],
   "metadata": {}
  },
  {
   "cell_type": "markdown",
   "source": [
    "# Colab Setup\r\n",
    "## colab shell setup\r\n"
   ],
   "metadata": {}
  },
  {
   "cell_type": "code",
   "execution_count": null,
   "source": [
    "from IPython.display import JSON\r\n",
    "from google.colab import output\r\n",
    "from subprocess import getoutput\r\n",
    "import os"
   ],
   "outputs": [],
   "metadata": {}
  },
  {
   "cell_type": "code",
   "execution_count": null,
   "source": [
    "# run colab bash shell teminal window\r\n",
    "\r\n",
    "def shell(command):\r\n",
    "  if command.startswith('cd'):\r\n",
    "    path = command.strip().split(maxsplit=1)[1]\r\n",
    "    os.chdir(path)\r\n",
    "    return JSON([''])\r\n",
    "  return JSON([getoutput(command)])\r\n",
    "output.register_callback('shell', shell)"
   ],
   "outputs": [],
   "metadata": {}
  },
  {
   "cell_type": "code",
   "execution_count": null,
   "source": [
    "#@title Colab Shell\r\n",
    "<div id=term_demo></div>\r\n",
    "<script src=\"https://code.jquery.com/jquery-latest.js\"></script>\r\n",
    "<script src=\"https://cdn.jsdelivr.net/npm/jquery.terminal/js/jquery.terminal.min.js\"></script>\r\n",
    "<link href=\"https://cdn.jsdelivr.net/npm/jquery.terminal/css/jquery.terminal.min.css\" rel=\"stylesheet\"/>\r\n",
    "<script>\r\n",
    "  $('#term_demo').terminal(async function(command) {\r\n",
    "      if (command !== '') {\r\n",
    "          try {\r\n",
    "              let res = await google.colab.kernel.invokeFunction('shell', [command])\r\n",
    "              let out = res.data['application/json'][0]\r\n",
    "              this.echo(new String(out))\r\n",
    "          } catch(e) {\r\n",
    "              this.error(new String(e));\r\n",
    "          }\r\n",
    "      } else {\r\n",
    "          this.echo('');\r\n",
    "      }\r\n",
    "  }, {\r\n",
    "      greetings: 'Welcome to Colab Shell',\r\n",
    "      name: 'colab_demo',\r\n",
    "      height: 250,\r\n",
    "      prompt: 'colab > '\r\n",
    "  });"
   ],
   "outputs": [],
   "metadata": {}
  },
  {
   "cell_type": "markdown",
   "source": [
    "#@title Colab Shell\r\n",
    "%%html\r\n",
    "<div id=term_demo></div>\r\n",
    "<script src=\"https://code.jquery.com/jquery-latest.js\"></script>\r\n",
    "<script src=\"https://cdn.jsdelivr.net/npm/jquery.terminal/js/jquery.terminal.min.js\"></script>\r\n",
    "<link href=\"https://cdn.jsdelivr.net/npm/jquery.terminal/css/jquery.terminal.min.css\" rel=\"stylesheet\"/>\r\n",
    "<script>\r\n",
    "  $('#term_demo').terminal(async function(command) {\r\n",
    "      if (command !== '') {\r\n",
    "          try {\r\n",
    "              let res = await google.colab.kernel.invokeFunction('shell', [command])\r\n",
    "              let out = res.data['application/json'][0]\r\n",
    "              this.echo(new String(out))\r\n",
    "          } catch(e) {\r\n",
    "              this.error(new String(e));\r\n",
    "          }\r\n",
    "      } else {\r\n",
    "          this.echo('');\r\n",
    "      }\r\n",
    "  }, {\r\n",
    "      greetings: 'Welcome to Colab Shell',\r\n",
    "      name: 'colab_demo',\r\n",
    "      height: 250,\r\n",
    "      prompt: 'colab > '\r\n",
    "  });"
   ],
   "metadata": {}
  },
  {
   "cell_type": "markdown",
   "source": [
    "## Mount Google Drive"
   ],
   "metadata": {}
  },
  {
   "cell_type": "code",
   "execution_count": null,
   "source": [
    "#mount google drive of GwsArk\r\n",
    "# from google.colab import drive\r\n",
    "# drive.mount('/content/gdrive')\r\n",
    "# cp /content/gdrive/MyDrive/config/* ./"
   ],
   "outputs": [],
   "metadata": {}
  },
  {
   "cell_type": "markdown",
   "source": [
    "## Upload Config Files From Local Server"
   ],
   "metadata": {}
  },
  {
   "cell_type": "code",
   "execution_count": null,
   "source": [
    "from google.colab import files\r\n",
    "uploaded = files.upload()\r\n",
    "for fn in uploaded.keys():\r\n",
    "  print('User uploaded file \"{name}\" with length {length} bytes'.format(\r\n",
    "      name=fn, length=len(uploaded[fn])))"
   ],
   "outputs": [],
   "metadata": {}
  },
  {
   "cell_type": "markdown",
   "source": [
    "## Import configurae credential file\r\n"
   ],
   "metadata": {}
  },
  {
   "cell_type": "markdown",
   "source": [],
   "metadata": {}
  },
  {
   "cell_type": "code",
   "execution_count": null,
   "source": [
    "#import config credential of user name and password\r\n",
    "import config\r\n",
    "user = config.USER\r\n",
    "pw = config.PW\r\n",
    "url = config.URL_PGP  \r\n",
    "#install bblib \r\n",
    "!pip install git+http://$user:$pw@$url"
   ],
   "outputs": [],
   "metadata": {}
  },
  {
   "cell_type": "markdown",
   "source": [
    "## import talab package"
   ],
   "metadata": {}
  },
  {
   "cell_type": "code",
   "execution_count": null,
   "source": [
    "url = 'https://anaconda.org/conda-forge/libta-lib/0.4.0/download/linux-64/libta-lib-0.4.0-h516909a_0.tar.bz2'\r\n",
    "!curl -L $url | tar xj -C /usr/lib/x86_64-linux-gnu/ lib --strip-components=1\r\n",
    "url = 'https://anaconda.org/conda-forge/ta-lib/0.4.19/download/linux-64/ta-lib-0.4.19-py37ha21ca33_2.tar.bz2'\r\n",
    "!curl -L $url | tar xj -C /usr/local/lib/python3.7/dist-packages/ lib/python3.7/site-packages/talib --strip-components=3\r\n",
    "import talib"
   ],
   "outputs": [],
   "metadata": {}
  },
  {
   "cell_type": "markdown",
   "source": [
    "# Setup tensorboard on Notebook"
   ],
   "metadata": {}
  },
  {
   "cell_type": "markdown",
   "source": [],
   "metadata": {}
  },
  {
   "cell_type": "code",
   "execution_count": null,
   "source": [
    "# Load the TensorBoard notebook extension\r\n",
    "%load_ext tensorboard"
   ],
   "outputs": [],
   "metadata": {}
  },
  {
   "cell_type": "code",
   "execution_count": null,
   "source": [
    "#Open tensorboard in notebook: \r\n",
    "%tensorboard --logdir=/content/train_package"
   ],
   "outputs": [],
   "metadata": {}
  },
  {
   "cell_type": "markdown",
   "source": [
    "# Running the trainning steps"
   ],
   "metadata": {}
  },
  {
   "cell_type": "markdown",
   "source": [
    "## 2. download data\r\n",
    "* this will download data and save database file of Data.db into database folder\r\n",
    "python main.py --mode=download_data"
   ],
   "metadata": {}
  },
  {
   "cell_type": "code",
   "execution_count": null,
   "source": [
    "!python main.py --mode=download_data"
   ],
   "outputs": [],
   "metadata": {}
  },
  {
   "cell_type": "markdown",
   "source": [
    "## 1. Copy PGPortfolio main.py scripts local  \r\n"
   ],
   "metadata": {}
  },
  {
   "cell_type": "code",
   "execution_count": null,
   "source": [
    "!cp  /usr/local/lib/python3.7/dist-packages/main.py ./\r\n"
   ],
   "outputs": [],
   "metadata": {}
  },
  {
   "cell_type": "markdown",
   "source": [
    "## 3. Generate net_config.json files in folders of train_pakage"
   ],
   "metadata": {}
  },
  {
   "cell_type": "code",
   "execution_count": null,
   "source": [
    "!python main.py --mode=generate --repeat=1"
   ],
   "outputs": [],
   "metadata": {}
  },
  {
   "cell_type": "markdown",
   "source": [
    "## 4. Trainning Strategy for processes = 1 \r\n",
    "to run trainning"
   ],
   "metadata": {}
  },
  {
   "cell_type": "code",
   "execution_count": null,
   "source": [
    "!python main.py --mode=train --processes=1"
   ],
   "outputs": [],
   "metadata": {}
  },
  {
   "cell_type": "markdown",
   "source": [
    "## 5. Backtest network"
   ],
   "metadata": {}
  },
  {
   "cell_type": "code",
   "execution_count": null,
   "source": [
    "!python main.py --mode=backtest --algo=1"
   ],
   "outputs": [],
   "metadata": {}
  },
  {
   "cell_type": "markdown",
   "source": [
    "## 6. Save test data \r\n",
    "* save test result for the test data, at forder \"1\" \r\n"
   ],
   "metadata": {}
  },
  {
   "cell_type": "code",
   "execution_count": null,
   "source": [
    "!python main.py --mode=save_test_data --folder=1"
   ],
   "outputs": [],
   "metadata": {}
  },
  {
   "cell_type": "markdown",
   "source": [
    "## 7. Plot Graph from results Data"
   ],
   "metadata": {}
  },
  {
   "cell_type": "code",
   "execution_count": null,
   "source": [
    "!python main.py --mode=plot --algos=1"
   ],
   "outputs": [],
   "metadata": {}
  },
  {
   "cell_type": "markdown",
   "source": [
    "## 8. Plot results into  Table csv file"
   ],
   "metadata": {}
  },
  {
   "cell_type": "code",
   "execution_count": null,
   "source": [
    "!python main.py --mode=table --algos=1"
   ],
   "outputs": [],
   "metadata": {}
  },
  {
   "cell_type": "markdown",
   "source": [],
   "metadata": {}
  },
  {
   "cell_type": "markdown",
   "source": [
    "## Zip and download files"
   ],
   "metadata": {}
  },
  {
   "cell_type": "code",
   "execution_count": null,
   "source": [
    "!zip -r train_result.zip train_package/"
   ],
   "outputs": [],
   "metadata": {}
  }
 ],
 "metadata": {
  "language_info": {
   "name": "python",
   "nbconvert_exporter": "python"
  },
  "orig_nbformat": 4
 },
 "nbformat": 4,
 "nbformat_minor": 2
}