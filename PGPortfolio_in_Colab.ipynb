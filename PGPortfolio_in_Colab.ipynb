{
  "nbformat": 4,
  "nbformat_minor": 0,
  "metadata": {
    "orig_nbformat": 4,
    "colab": {
      "name": "PGPortfolio_in_Colab.ipynb",
      "provenance": []
    },
    "accelerator": "GPU",
    "language_info": {
      "name": "python"
    },
    "kernelspec": {
      "name": "python3",
      "display_name": "Python 3"
    }
  },
  "cells": [
    {
      "cell_type": "markdown",
      "metadata": {
        "id": "C6bekfJbMdrM"
      },
      "source": [
        "# Open notebook in Colab\n"
      ]
    },
    {
      "cell_type": "markdown",
      "metadata": {
        "id": "2_1KKeqlMdrP"
      },
      "source": [
        ""
      ]
    },
    {
      "cell_type": "markdown",
      "metadata": {
        "id": "CbhI86b1MdrQ"
      },
      "source": [
        "<a href=\"https://colab.research.google.com/github/bibofeng/docs/blob/main/PGPortfolio_in_Colab.ipynb\" target=\"_parent\"><img src=\"https://colab.research.google.com/assets/colab-badge.svg\" alt=\"Open In Colab\"/></a>"
      ]
    },
    {
      "cell_type": "markdown",
      "metadata": {
        "id": "alCoULWXM4K3"
      },
      "source": [
        "## Check  GPU"
      ]
    },
    {
      "cell_type": "code",
      "metadata": {
        "id": "dW3ySI7ZMu-W"
      },
      "source": [
        "gpu_info = !nvidia-smi\n",
        "gpu_info = '\\n'.join(gpu_info)\n",
        "if gpu_info.find('failed') >= 0:\n",
        "  print('Not connected to a GPU')\n",
        "else:\n",
        "  print(gpu_info)"
      ],
      "execution_count": null,
      "outputs": []
    },
    {
      "cell_type": "markdown",
      "metadata": {
        "id": "m614FbglM9st"
      },
      "source": [
        "## Check Memory"
      ]
    },
    {
      "cell_type": "code",
      "metadata": {
        "id": "ClZ07mrKNDT-",
        "outputId": "756dc87e-f0ec-4287-da51-e8edcc73c085",
        "colab": {
          "base_uri": "https://localhost:8080/"
        }
      },
      "source": [
        "from psutil import virtual_memory\n",
        "ram_gb = virtual_memory().total / 1e9\n",
        "print('Your runtime has {:.1f} gigabytes of available RAM\\n'.format(ram_gb))\n",
        "\n",
        "if ram_gb < 20:\n",
        "  print('Not using a high-RAM runtime')\n",
        "else:\n",
        "  print('You are using a high-RAM runtime!')"
      ],
      "execution_count": 2,
      "outputs": [
        {
          "output_type": "stream",
          "name": "stdout",
          "text": [
            "Your runtime has 13.6 gigabytes of available RAM\n",
            "\n",
            "Not using a high-RAM runtime\n"
          ]
        }
      ]
    },
    {
      "cell_type": "markdown",
      "metadata": {
        "id": "R-LHKCJ2MdrQ"
      },
      "source": [
        "# Colab Setup\n",
        "## colab shell setup\n"
      ]
    },
    {
      "cell_type": "code",
      "metadata": {
        "id": "NO2etGthMdrR"
      },
      "source": [
        "from IPython.display import JSON\n",
        "from google.colab import output\n",
        "from subprocess import getoutput\n",
        "import os"
      ],
      "execution_count": null,
      "outputs": []
    },
    {
      "cell_type": "code",
      "metadata": {
        "id": "beuRUOLJMdrS"
      },
      "source": [
        "# run colab bash shell teminal window\n",
        "\n",
        "def shell(command):\n",
        "  if command.startswith('cd'):\n",
        "    path = command.strip().split(maxsplit=1)[1]\n",
        "    os.chdir(path)\n",
        "    return JSON([''])\n",
        "  return JSON([getoutput(command)])\n",
        "output.register_callback('shell', shell)"
      ],
      "execution_count": null,
      "outputs": []
    },
    {
      "cell_type": "code",
      "metadata": {
        "id": "tsh-h76xMdrS"
      },
      "source": [
        "#@title Colab Shell\n",
        "<div id=term_demo></div>\n",
        "<script src=\"https://code.jquery.com/jquery-latest.js\"></script>\n",
        "<script src=\"https://cdn.jsdelivr.net/npm/jquery.terminal/js/jquery.terminal.min.js\"></script>\n",
        "<link href=\"https://cdn.jsdelivr.net/npm/jquery.terminal/css/jquery.terminal.min.css\" rel=\"stylesheet\"/>\n",
        "<script>\n",
        "  $('#term_demo').terminal(async function(command) {\n",
        "      if (command !== '') {\n",
        "          try {\n",
        "              let res = await google.colab.kernel.invokeFunction('shell', [command])\n",
        "              let out = res.data['application/json'][0]\n",
        "              this.echo(new String(out))\n",
        "          } catch(e) {\n",
        "              this.error(new String(e));\n",
        "          }\n",
        "      } else {\n",
        "          this.echo('');\n",
        "      }\n",
        "  }, {\n",
        "      greetings: 'Welcome to Colab Shell',\n",
        "      name: 'colab_demo',\n",
        "      height: 250,\n",
        "      prompt: 'colab > '\n",
        "  });"
      ],
      "execution_count": null,
      "outputs": []
    },
    {
      "cell_type": "markdown",
      "metadata": {
        "id": "BoPi2qdqMdrU"
      },
      "source": [
        "#@title Colab Shell\n",
        "%%html\n",
        "<div id=term_demo></div>\n",
        "<script src=\"https://code.jquery.com/jquery-latest.js\"></script>\n",
        "<script src=\"https://cdn.jsdelivr.net/npm/jquery.terminal/js/jquery.terminal.min.js\"></script>\n",
        "<link href=\"https://cdn.jsdelivr.net/npm/jquery.terminal/css/jquery.terminal.min.css\" rel=\"stylesheet\"/>\n",
        "<script>\n",
        "  $('#term_demo').terminal(async function(command) {\n",
        "      if (command !== '') {\n",
        "          try {\n",
        "              let res = await google.colab.kernel.invokeFunction('shell', [command])\n",
        "              let out = res.data['application/json'][0]\n",
        "              this.echo(new String(out))\n",
        "          } catch(e) {\n",
        "              this.error(new String(e));\n",
        "          }\n",
        "      } else {\n",
        "          this.echo('');\n",
        "      }\n",
        "  }, {\n",
        "      greetings: 'Welcome to Colab Shell',\n",
        "      name: 'colab_demo',\n",
        "      height: 250,\n",
        "      prompt: 'colab > '\n",
        "  });"
      ]
    },
    {
      "cell_type": "markdown",
      "metadata": {
        "id": "xoqgx7njMdrU"
      },
      "source": [
        "## Mount Google Drive"
      ]
    },
    {
      "cell_type": "code",
      "metadata": {
        "id": "fEucmkuSMdrV"
      },
      "source": [
        "#mount google drive of GwsArk\n",
        "# from google.colab import drive\n",
        "# drive.mount('/content/gdrive')\n",
        "# cp /content/gdrive/MyDrive/config/* ./"
      ],
      "execution_count": null,
      "outputs": []
    },
    {
      "cell_type": "markdown",
      "metadata": {
        "id": "e555J1pbMdrV"
      },
      "source": [
        "## Upload Config Files From Local Server"
      ]
    },
    {
      "cell_type": "code",
      "metadata": {
        "id": "iz-Ut-g7MdrW"
      },
      "source": [
        "from google.colab import files\n",
        "uploaded = files.upload()\n",
        "for fn in uploaded.keys():\n",
        "  print('User uploaded file \"{name}\" with length {length} bytes'.format(\n",
        "      name=fn, length=len(uploaded[fn])))"
      ],
      "execution_count": null,
      "outputs": []
    },
    {
      "cell_type": "markdown",
      "metadata": {
        "id": "oE0GF6p5MdrX"
      },
      "source": [
        "## Import configurae credential file\n"
      ]
    },
    {
      "cell_type": "markdown",
      "metadata": {
        "id": "KBiP6tGxMdrX"
      },
      "source": [
        ""
      ]
    },
    {
      "cell_type": "code",
      "metadata": {
        "id": "M2gVQVCMMdrX"
      },
      "source": [
        "#import config credential of user name and password\n",
        "import config\n",
        "user = config.USER\n",
        "pw = config.PW\n",
        "url = config.URL_PGP  \n",
        "#install bblib \n",
        "!pip install git+http://$user:$pw@$url"
      ],
      "execution_count": null,
      "outputs": []
    },
    {
      "cell_type": "markdown",
      "metadata": {
        "id": "m4tV7UotMdrY"
      },
      "source": [
        "## import talab package"
      ]
    },
    {
      "cell_type": "code",
      "metadata": {
        "id": "LppL9nV3MdrY"
      },
      "source": [
        "url = 'https://anaconda.org/conda-forge/libta-lib/0.4.0/download/linux-64/libta-lib-0.4.0-h516909a_0.tar.bz2'\n",
        "!curl -L $url | tar xj -C /usr/lib/x86_64-linux-gnu/ lib --strip-components=1\n",
        "url = 'https://anaconda.org/conda-forge/ta-lib/0.4.19/download/linux-64/ta-lib-0.4.19-py37ha21ca33_2.tar.bz2'\n",
        "!curl -L $url | tar xj -C /usr/local/lib/python3.7/dist-packages/ lib/python3.7/site-packages/talib --strip-components=3\n",
        "import talib"
      ],
      "execution_count": null,
      "outputs": []
    },
    {
      "cell_type": "markdown",
      "metadata": {
        "id": "tIhxOZ5tMdrY"
      },
      "source": [
        "# Setup tensorboard on Notebook"
      ]
    },
    {
      "cell_type": "markdown",
      "metadata": {
        "id": "6_RZ9-U-MdrZ"
      },
      "source": [
        ""
      ]
    },
    {
      "cell_type": "code",
      "metadata": {
        "id": "GDObZe54MdrZ"
      },
      "source": [
        "# Load the TensorBoard notebook extension\n",
        "%load_ext tensorboard"
      ],
      "execution_count": null,
      "outputs": []
    },
    {
      "cell_type": "code",
      "metadata": {
        "id": "q_xYantyMdrZ"
      },
      "source": [
        "#Open tensorboard in notebook: \n",
        "%tensorboard --logdir=/content/train_package"
      ],
      "execution_count": null,
      "outputs": []
    },
    {
      "cell_type": "markdown",
      "metadata": {
        "id": "X4KjbggzMdrZ"
      },
      "source": [
        "# Running the trainning steps"
      ]
    },
    {
      "cell_type": "markdown",
      "metadata": {
        "id": "UNeDiIudMdrZ"
      },
      "source": [
        "## 2. download data\n",
        "* this will download data and save database file of Data.db into database folder\n",
        "python main.py --mode=download_data"
      ]
    },
    {
      "cell_type": "code",
      "metadata": {
        "id": "ue05Rnu7Mdra"
      },
      "source": [
        "!python main.py --mode=download_data"
      ],
      "execution_count": null,
      "outputs": []
    },
    {
      "cell_type": "markdown",
      "metadata": {
        "id": "BzQigpa6Mdra"
      },
      "source": [
        "## 1. Copy PGPortfolio main.py scripts local  \n"
      ]
    },
    {
      "cell_type": "code",
      "metadata": {
        "id": "QRfI6lCLMdra"
      },
      "source": [
        "!cp  /usr/local/lib/python3.7/dist-packages/main.py ./\n"
      ],
      "execution_count": null,
      "outputs": []
    },
    {
      "cell_type": "markdown",
      "metadata": {
        "id": "NQjRj9RZMdra"
      },
      "source": [
        "## 3. Generate net_config.json files in folders of train_pakage"
      ]
    },
    {
      "cell_type": "code",
      "metadata": {
        "id": "2gjLjhOOMdra"
      },
      "source": [
        "!python main.py --mode=generate --repeat=1"
      ],
      "execution_count": null,
      "outputs": []
    },
    {
      "cell_type": "markdown",
      "metadata": {
        "id": "-SFrnPYfMdra"
      },
      "source": [
        "## 4. Trainning Strategy for processes = 1 \n",
        "to run trainning"
      ]
    },
    {
      "cell_type": "code",
      "metadata": {
        "id": "CnYeTSOJMdrb"
      },
      "source": [
        "!python main.py --mode=train --processes=1"
      ],
      "execution_count": null,
      "outputs": []
    },
    {
      "cell_type": "markdown",
      "metadata": {
        "id": "sxA6hIgiMdrb"
      },
      "source": [
        "## 5. Backtest network"
      ]
    },
    {
      "cell_type": "code",
      "metadata": {
        "id": "G3FEyAP6Mdrb"
      },
      "source": [
        "!python main.py --mode=backtest --algo=1"
      ],
      "execution_count": null,
      "outputs": []
    },
    {
      "cell_type": "markdown",
      "metadata": {
        "id": "oFr_qI4sMdrb"
      },
      "source": [
        "## 6. Save test data \n",
        "* save test result for the test data, at forder \"1\" \n"
      ]
    },
    {
      "cell_type": "code",
      "metadata": {
        "id": "aRDGbMFiMdrb"
      },
      "source": [
        "!python main.py --mode=save_test_data --folder=1"
      ],
      "execution_count": null,
      "outputs": []
    },
    {
      "cell_type": "markdown",
      "metadata": {
        "id": "QONUZZBxMdrc"
      },
      "source": [
        "## 7. Plot Graph from results Data"
      ]
    },
    {
      "cell_type": "code",
      "metadata": {
        "id": "3oMOmraUMdrc"
      },
      "source": [
        "!python main.py --mode=plot --algos=1"
      ],
      "execution_count": null,
      "outputs": []
    },
    {
      "cell_type": "markdown",
      "metadata": {
        "id": "01jHZuClMdrc"
      },
      "source": [
        "## 8. Plot results into  Table csv file"
      ]
    },
    {
      "cell_type": "code",
      "metadata": {
        "id": "1Emyg8YvMdrd"
      },
      "source": [
        "!python main.py --mode=table --algos=1"
      ],
      "execution_count": null,
      "outputs": []
    },
    {
      "cell_type": "markdown",
      "metadata": {
        "id": "akbh6fZMMdrd"
      },
      "source": [
        ""
      ]
    },
    {
      "cell_type": "markdown",
      "metadata": {
        "id": "SAh_PvryMdrd"
      },
      "source": [
        "## Zip and download files"
      ]
    },
    {
      "cell_type": "code",
      "metadata": {
        "id": "QQ_9wv_XMdrd"
      },
      "source": [
        "#create zip file for train_package folder and sub folders\n",
        "#then manually download the zip file\n",
        "!zip -r train_result.zip train_package/"
      ],
      "execution_count": null,
      "outputs": []
    }
  ]
}